{
 "cells": [
  {
   "cell_type": "code",
   "execution_count": 1,
   "id": "50466ba3-8c7b-4cc6-aa7a-d536b16fe283",
   "metadata": {},
   "outputs": [],
   "source": [
    "import pandas as pd\n",
    "import numpy as np\n",
    "\n",
    "# Carga de la tabla de indicadores de natalidad en Pandas\n",
    "\n",
    "df = pd.read_csv('C:/ML/ProyectoML/indicadoresNatalidadComunas.csv')"
   ]
  },
  {
   "cell_type": "code",
   "execution_count": 5,
   "id": "d6641a84-3a47-443f-9e62-e6e762fec2d6",
   "metadata": {},
   "outputs": [
    {
     "name": "stdout",
     "output_type": "stream",
     "text": [
      "(848, 16)\n"
     ]
    }
   ],
   "source": [
    "# Consulta de la forma de los datos\n",
    "\n",
    "print(df.shape)"
   ]
  },
  {
   "cell_type": "code",
   "execution_count": 7,
   "id": "c467d2c2-3b9d-4187-9c41-1801a047cf29",
   "metadata": {},
   "outputs": [
    {
     "name": "stdout",
     "output_type": "stream",
     "text": [
      "848\n"
     ]
    }
   ],
   "source": [
    "# Consulta del numero de filas en el data frame\n",
    "\n",
    "print(len(df.index))"
   ]
  },
  {
   "cell_type": "code",
   "execution_count": 9,
   "id": "6c41f192-0efc-457c-b2e9-56d977369257",
   "metadata": {},
   "outputs": [
    {
     "name": "stdout",
     "output_type": "stream",
     "text": [
      "       prc_nmer03  prc_nmer04  prc_nmer05  prc_nmer06  prc_nmer07  prc_nmer08  \\\n",
      "count  848.000000  848.000000  848.000000  848.000000  848.000000  848.000000   \n",
      "mean     4.513654    3.873821    4.034313    3.439544    3.521723    3.683702   \n",
      "std     10.616860    5.846530    7.233253    5.138838    5.156380    5.523947   \n",
      "min      0.000000    0.000000    0.000000    0.000000    0.000000    0.000000   \n",
      "25%      0.000000    0.000000    0.000000    0.000000    0.000000    0.000000   \n",
      "50%      2.040816    1.581250    0.378788    0.000000    0.000000    0.000000   \n",
      "75%      6.250000    5.882353    5.902280    5.555556    5.845588    5.882353   \n",
      "max    250.000000   50.000000  100.000000   44.444444   50.000000   50.000000   \n",
      "\n",
      "       prc_nmer09  prc_nmer10  prc_nmer11  prc_nmer12  prc_nmer13  prc_nmer14  \\\n",
      "count  848.000000  848.000000  848.000000  848.000000  846.000000  846.000000   \n",
      "mean     3.625487    3.430444    3.204109    3.328183    3.504692    3.072259   \n",
      "std      6.286856    6.497788    5.016582    5.310322    5.752162    4.907816   \n",
      "min      0.000000    0.000000    0.000000    0.000000    0.000000    0.000000   \n",
      "25%      0.000000    0.000000    0.000000    0.000000    0.000000    0.000000   \n",
      "50%      0.000000    0.000000    0.000000    0.000000    0.000000    0.000000   \n",
      "75%      5.611991    5.000000    5.128205    5.437184    5.405405    5.096154   \n",
      "max    100.000000  100.000000   40.000000   50.000000   50.000000   50.000000   \n",
      "\n",
      "       prc_nmer15  prc_nmer16  prc_nmer17  \n",
      "count  846.000000  846.000000  846.000000  \n",
      "mean     3.201490    3.043148    3.171269  \n",
      "std      7.142600    5.092474    5.623308  \n",
      "min      0.000000    0.000000    0.000000  \n",
      "25%      0.000000    0.000000    0.000000  \n",
      "50%      0.000000    0.000000    0.000000  \n",
      "75%      4.734219    5.161362    4.914015  \n",
      "max    100.000000   50.000000   60.000000  \n"
     ]
    }
   ],
   "source": [
    "# Consulta de estadisticas basicas del data frame\n",
    "\n",
    "print(df.describe())"
   ]
  },
  {
   "cell_type": "code",
   "execution_count": null,
   "id": "14f195b4-081a-49d8-aa47-5da722543529",
   "metadata": {},
   "outputs": [],
   "source": []
  }
 ],
 "metadata": {
  "kernelspec": {
   "display_name": "Python 3 (ipykernel)",
   "language": "python",
   "name": "python3"
  },
  "language_info": {
   "codemirror_mode": {
    "name": "ipython",
    "version": 3
   },
   "file_extension": ".py",
   "mimetype": "text/x-python",
   "name": "python",
   "nbconvert_exporter": "python",
   "pygments_lexer": "ipython3",
   "version": "3.12.4"
  }
 },
 "nbformat": 4,
 "nbformat_minor": 5
}
