{
 "cells": [
  {
   "cell_type": "code",
   "execution_count": 77,
   "id": "c8538428-8309-4d20-8370-22f9b8592f87",
   "metadata": {},
   "outputs": [],
   "source": [
    "import numpy as np\n",
    "import pandas as pd\n",
    "import matplotlib.pyplot as plt\n",
    "\n",
    "# Carga de los datos de indicadores de natalidad\n",
    "cali_nac = 'C:/ML/SegundoEntrenamiento/nacimientos30.csv'\n",
    "df = pd.read_csv(cali_nac)\n"
   ]
  },
  {
   "cell_type": "code",
   "execution_count": 79,
   "id": "f4d088db-d015-4ecc-999a-4b80762c7acc",
   "metadata": {},
   "outputs": [
    {
     "name": "stdout",
     "output_type": "stream",
     "text": [
      "(2370, 33)\n"
     ]
    }
   ],
   "source": [
    "print(df.shape)"
   ]
  },
  {
   "cell_type": "code",
   "execution_count": 81,
   "id": "50742d51-13e9-4fc8-9a9d-852ca723129b",
   "metadata": {},
   "outputs": [
    {
     "name": "stdout",
     "output_type": "stream",
     "text": [
      "0       1\n",
      "1       4\n",
      "2       3\n",
      "3       7\n",
      "4       1\n",
      "       ..\n",
      "2365    0\n",
      "2366    3\n",
      "2367    0\n",
      "2368    1\n",
      "2369    0\n",
      "Name: ed1, Length: 2370, dtype: int64\n"
     ]
    }
   ],
   "source": [
    "print(df['ed1'])"
   ]
  },
  {
   "cell_type": "code",
   "execution_count": 83,
   "id": "df51dd6d-7d67-42f4-aa98-0de2b225044e",
   "metadata": {},
   "outputs": [],
   "source": [
    "X = df.iloc[:, [3, 4, 5, 6, 7, 8, 9, 10, 11, 12, 13, 14, 15, 16, 17, 18, 19, 20, 21, 22, 23, 24, 25, 26, 27, 28, 29, 30, 31]]\n",
    "Y = df.iloc[:, 2]\n"
   ]
  },
  {
   "cell_type": "code",
   "execution_count": 85,
   "id": "28fd0774-bf82-4f8d-a784-23552062c99b",
   "metadata": {},
   "outputs": [],
   "source": [
    "from sklearn.model_selection import train_test_split\n",
    "X_train, X_test, Y_train, Y_test = train_test_split(X, Y, test_size = 0.2)"
   ]
  },
  {
   "cell_type": "code",
   "execution_count": 87,
   "id": "1688897b-284a-4b7e-8a24-fd96c250d0a0",
   "metadata": {},
   "outputs": [],
   "source": [
    "from sklearn.ensemble import RandomForestRegressor\n",
    "Bar2 = RandomForestRegressor(n_estimators = 700, max_depth = 20, max_features = 14)"
   ]
  },
  {
   "cell_type": "code",
   "execution_count": 89,
   "id": "13419cb1-a934-4b06-986c-d40e01b4b880",
   "metadata": {},
   "outputs": [
    {
     "data": {
      "text/html": [
       "<style>#sk-container-id-3 {\n",
       "  /* Definition of color scheme common for light and dark mode */\n",
       "  --sklearn-color-text: black;\n",
       "  --sklearn-color-line: gray;\n",
       "  /* Definition of color scheme for unfitted estimators */\n",
       "  --sklearn-color-unfitted-level-0: #fff5e6;\n",
       "  --sklearn-color-unfitted-level-1: #f6e4d2;\n",
       "  --sklearn-color-unfitted-level-2: #ffe0b3;\n",
       "  --sklearn-color-unfitted-level-3: chocolate;\n",
       "  /* Definition of color scheme for fitted estimators */\n",
       "  --sklearn-color-fitted-level-0: #f0f8ff;\n",
       "  --sklearn-color-fitted-level-1: #d4ebff;\n",
       "  --sklearn-color-fitted-level-2: #b3dbfd;\n",
       "  --sklearn-color-fitted-level-3: cornflowerblue;\n",
       "\n",
       "  /* Specific color for light theme */\n",
       "  --sklearn-color-text-on-default-background: var(--sg-text-color, var(--theme-code-foreground, var(--jp-content-font-color1, black)));\n",
       "  --sklearn-color-background: var(--sg-background-color, var(--theme-background, var(--jp-layout-color0, white)));\n",
       "  --sklearn-color-border-box: var(--sg-text-color, var(--theme-code-foreground, var(--jp-content-font-color1, black)));\n",
       "  --sklearn-color-icon: #696969;\n",
       "\n",
       "  @media (prefers-color-scheme: dark) {\n",
       "    /* Redefinition of color scheme for dark theme */\n",
       "    --sklearn-color-text-on-default-background: var(--sg-text-color, var(--theme-code-foreground, var(--jp-content-font-color1, white)));\n",
       "    --sklearn-color-background: var(--sg-background-color, var(--theme-background, var(--jp-layout-color0, #111)));\n",
       "    --sklearn-color-border-box: var(--sg-text-color, var(--theme-code-foreground, var(--jp-content-font-color1, white)));\n",
       "    --sklearn-color-icon: #878787;\n",
       "  }\n",
       "}\n",
       "\n",
       "#sk-container-id-3 {\n",
       "  color: var(--sklearn-color-text);\n",
       "}\n",
       "\n",
       "#sk-container-id-3 pre {\n",
       "  padding: 0;\n",
       "}\n",
       "\n",
       "#sk-container-id-3 input.sk-hidden--visually {\n",
       "  border: 0;\n",
       "  clip: rect(1px 1px 1px 1px);\n",
       "  clip: rect(1px, 1px, 1px, 1px);\n",
       "  height: 1px;\n",
       "  margin: -1px;\n",
       "  overflow: hidden;\n",
       "  padding: 0;\n",
       "  position: absolute;\n",
       "  width: 1px;\n",
       "}\n",
       "\n",
       "#sk-container-id-3 div.sk-dashed-wrapped {\n",
       "  border: 1px dashed var(--sklearn-color-line);\n",
       "  margin: 0 0.4em 0.5em 0.4em;\n",
       "  box-sizing: border-box;\n",
       "  padding-bottom: 0.4em;\n",
       "  background-color: var(--sklearn-color-background);\n",
       "}\n",
       "\n",
       "#sk-container-id-3 div.sk-container {\n",
       "  /* jupyter's `normalize.less` sets `[hidden] { display: none; }`\n",
       "     but bootstrap.min.css set `[hidden] { display: none !important; }`\n",
       "     so we also need the `!important` here to be able to override the\n",
       "     default hidden behavior on the sphinx rendered scikit-learn.org.\n",
       "     See: https://github.com/scikit-learn/scikit-learn/issues/21755 */\n",
       "  display: inline-block !important;\n",
       "  position: relative;\n",
       "}\n",
       "\n",
       "#sk-container-id-3 div.sk-text-repr-fallback {\n",
       "  display: none;\n",
       "}\n",
       "\n",
       "div.sk-parallel-item,\n",
       "div.sk-serial,\n",
       "div.sk-item {\n",
       "  /* draw centered vertical line to link estimators */\n",
       "  background-image: linear-gradient(var(--sklearn-color-text-on-default-background), var(--sklearn-color-text-on-default-background));\n",
       "  background-size: 2px 100%;\n",
       "  background-repeat: no-repeat;\n",
       "  background-position: center center;\n",
       "}\n",
       "\n",
       "/* Parallel-specific style estimator block */\n",
       "\n",
       "#sk-container-id-3 div.sk-parallel-item::after {\n",
       "  content: \"\";\n",
       "  width: 100%;\n",
       "  border-bottom: 2px solid var(--sklearn-color-text-on-default-background);\n",
       "  flex-grow: 1;\n",
       "}\n",
       "\n",
       "#sk-container-id-3 div.sk-parallel {\n",
       "  display: flex;\n",
       "  align-items: stretch;\n",
       "  justify-content: center;\n",
       "  background-color: var(--sklearn-color-background);\n",
       "  position: relative;\n",
       "}\n",
       "\n",
       "#sk-container-id-3 div.sk-parallel-item {\n",
       "  display: flex;\n",
       "  flex-direction: column;\n",
       "}\n",
       "\n",
       "#sk-container-id-3 div.sk-parallel-item:first-child::after {\n",
       "  align-self: flex-end;\n",
       "  width: 50%;\n",
       "}\n",
       "\n",
       "#sk-container-id-3 div.sk-parallel-item:last-child::after {\n",
       "  align-self: flex-start;\n",
       "  width: 50%;\n",
       "}\n",
       "\n",
       "#sk-container-id-3 div.sk-parallel-item:only-child::after {\n",
       "  width: 0;\n",
       "}\n",
       "\n",
       "/* Serial-specific style estimator block */\n",
       "\n",
       "#sk-container-id-3 div.sk-serial {\n",
       "  display: flex;\n",
       "  flex-direction: column;\n",
       "  align-items: center;\n",
       "  background-color: var(--sklearn-color-background);\n",
       "  padding-right: 1em;\n",
       "  padding-left: 1em;\n",
       "}\n",
       "\n",
       "\n",
       "/* Toggleable style: style used for estimator/Pipeline/ColumnTransformer box that is\n",
       "clickable and can be expanded/collapsed.\n",
       "- Pipeline and ColumnTransformer use this feature and define the default style\n",
       "- Estimators will overwrite some part of the style using the `sk-estimator` class\n",
       "*/\n",
       "\n",
       "/* Pipeline and ColumnTransformer style (default) */\n",
       "\n",
       "#sk-container-id-3 div.sk-toggleable {\n",
       "  /* Default theme specific background. It is overwritten whether we have a\n",
       "  specific estimator or a Pipeline/ColumnTransformer */\n",
       "  background-color: var(--sklearn-color-background);\n",
       "}\n",
       "\n",
       "/* Toggleable label */\n",
       "#sk-container-id-3 label.sk-toggleable__label {\n",
       "  cursor: pointer;\n",
       "  display: block;\n",
       "  width: 100%;\n",
       "  margin-bottom: 0;\n",
       "  padding: 0.5em;\n",
       "  box-sizing: border-box;\n",
       "  text-align: center;\n",
       "}\n",
       "\n",
       "#sk-container-id-3 label.sk-toggleable__label-arrow:before {\n",
       "  /* Arrow on the left of the label */\n",
       "  content: \"▸\";\n",
       "  float: left;\n",
       "  margin-right: 0.25em;\n",
       "  color: var(--sklearn-color-icon);\n",
       "}\n",
       "\n",
       "#sk-container-id-3 label.sk-toggleable__label-arrow:hover:before {\n",
       "  color: var(--sklearn-color-text);\n",
       "}\n",
       "\n",
       "/* Toggleable content - dropdown */\n",
       "\n",
       "#sk-container-id-3 div.sk-toggleable__content {\n",
       "  max-height: 0;\n",
       "  max-width: 0;\n",
       "  overflow: hidden;\n",
       "  text-align: left;\n",
       "  /* unfitted */\n",
       "  background-color: var(--sklearn-color-unfitted-level-0);\n",
       "}\n",
       "\n",
       "#sk-container-id-3 div.sk-toggleable__content.fitted {\n",
       "  /* fitted */\n",
       "  background-color: var(--sklearn-color-fitted-level-0);\n",
       "}\n",
       "\n",
       "#sk-container-id-3 div.sk-toggleable__content pre {\n",
       "  margin: 0.2em;\n",
       "  border-radius: 0.25em;\n",
       "  color: var(--sklearn-color-text);\n",
       "  /* unfitted */\n",
       "  background-color: var(--sklearn-color-unfitted-level-0);\n",
       "}\n",
       "\n",
       "#sk-container-id-3 div.sk-toggleable__content.fitted pre {\n",
       "  /* unfitted */\n",
       "  background-color: var(--sklearn-color-fitted-level-0);\n",
       "}\n",
       "\n",
       "#sk-container-id-3 input.sk-toggleable__control:checked~div.sk-toggleable__content {\n",
       "  /* Expand drop-down */\n",
       "  max-height: 200px;\n",
       "  max-width: 100%;\n",
       "  overflow: auto;\n",
       "}\n",
       "\n",
       "#sk-container-id-3 input.sk-toggleable__control:checked~label.sk-toggleable__label-arrow:before {\n",
       "  content: \"▾\";\n",
       "}\n",
       "\n",
       "/* Pipeline/ColumnTransformer-specific style */\n",
       "\n",
       "#sk-container-id-3 div.sk-label input.sk-toggleable__control:checked~label.sk-toggleable__label {\n",
       "  color: var(--sklearn-color-text);\n",
       "  background-color: var(--sklearn-color-unfitted-level-2);\n",
       "}\n",
       "\n",
       "#sk-container-id-3 div.sk-label.fitted input.sk-toggleable__control:checked~label.sk-toggleable__label {\n",
       "  background-color: var(--sklearn-color-fitted-level-2);\n",
       "}\n",
       "\n",
       "/* Estimator-specific style */\n",
       "\n",
       "/* Colorize estimator box */\n",
       "#sk-container-id-3 div.sk-estimator input.sk-toggleable__control:checked~label.sk-toggleable__label {\n",
       "  /* unfitted */\n",
       "  background-color: var(--sklearn-color-unfitted-level-2);\n",
       "}\n",
       "\n",
       "#sk-container-id-3 div.sk-estimator.fitted input.sk-toggleable__control:checked~label.sk-toggleable__label {\n",
       "  /* fitted */\n",
       "  background-color: var(--sklearn-color-fitted-level-2);\n",
       "}\n",
       "\n",
       "#sk-container-id-3 div.sk-label label.sk-toggleable__label,\n",
       "#sk-container-id-3 div.sk-label label {\n",
       "  /* The background is the default theme color */\n",
       "  color: var(--sklearn-color-text-on-default-background);\n",
       "}\n",
       "\n",
       "/* On hover, darken the color of the background */\n",
       "#sk-container-id-3 div.sk-label:hover label.sk-toggleable__label {\n",
       "  color: var(--sklearn-color-text);\n",
       "  background-color: var(--sklearn-color-unfitted-level-2);\n",
       "}\n",
       "\n",
       "/* Label box, darken color on hover, fitted */\n",
       "#sk-container-id-3 div.sk-label.fitted:hover label.sk-toggleable__label.fitted {\n",
       "  color: var(--sklearn-color-text);\n",
       "  background-color: var(--sklearn-color-fitted-level-2);\n",
       "}\n",
       "\n",
       "/* Estimator label */\n",
       "\n",
       "#sk-container-id-3 div.sk-label label {\n",
       "  font-family: monospace;\n",
       "  font-weight: bold;\n",
       "  display: inline-block;\n",
       "  line-height: 1.2em;\n",
       "}\n",
       "\n",
       "#sk-container-id-3 div.sk-label-container {\n",
       "  text-align: center;\n",
       "}\n",
       "\n",
       "/* Estimator-specific */\n",
       "#sk-container-id-3 div.sk-estimator {\n",
       "  font-family: monospace;\n",
       "  border: 1px dotted var(--sklearn-color-border-box);\n",
       "  border-radius: 0.25em;\n",
       "  box-sizing: border-box;\n",
       "  margin-bottom: 0.5em;\n",
       "  /* unfitted */\n",
       "  background-color: var(--sklearn-color-unfitted-level-0);\n",
       "}\n",
       "\n",
       "#sk-container-id-3 div.sk-estimator.fitted {\n",
       "  /* fitted */\n",
       "  background-color: var(--sklearn-color-fitted-level-0);\n",
       "}\n",
       "\n",
       "/* on hover */\n",
       "#sk-container-id-3 div.sk-estimator:hover {\n",
       "  /* unfitted */\n",
       "  background-color: var(--sklearn-color-unfitted-level-2);\n",
       "}\n",
       "\n",
       "#sk-container-id-3 div.sk-estimator.fitted:hover {\n",
       "  /* fitted */\n",
       "  background-color: var(--sklearn-color-fitted-level-2);\n",
       "}\n",
       "\n",
       "/* Specification for estimator info (e.g. \"i\" and \"?\") */\n",
       "\n",
       "/* Common style for \"i\" and \"?\" */\n",
       "\n",
       ".sk-estimator-doc-link,\n",
       "a:link.sk-estimator-doc-link,\n",
       "a:visited.sk-estimator-doc-link {\n",
       "  float: right;\n",
       "  font-size: smaller;\n",
       "  line-height: 1em;\n",
       "  font-family: monospace;\n",
       "  background-color: var(--sklearn-color-background);\n",
       "  border-radius: 1em;\n",
       "  height: 1em;\n",
       "  width: 1em;\n",
       "  text-decoration: none !important;\n",
       "  margin-left: 1ex;\n",
       "  /* unfitted */\n",
       "  border: var(--sklearn-color-unfitted-level-1) 1pt solid;\n",
       "  color: var(--sklearn-color-unfitted-level-1);\n",
       "}\n",
       "\n",
       ".sk-estimator-doc-link.fitted,\n",
       "a:link.sk-estimator-doc-link.fitted,\n",
       "a:visited.sk-estimator-doc-link.fitted {\n",
       "  /* fitted */\n",
       "  border: var(--sklearn-color-fitted-level-1) 1pt solid;\n",
       "  color: var(--sklearn-color-fitted-level-1);\n",
       "}\n",
       "\n",
       "/* On hover */\n",
       "div.sk-estimator:hover .sk-estimator-doc-link:hover,\n",
       ".sk-estimator-doc-link:hover,\n",
       "div.sk-label-container:hover .sk-estimator-doc-link:hover,\n",
       ".sk-estimator-doc-link:hover {\n",
       "  /* unfitted */\n",
       "  background-color: var(--sklearn-color-unfitted-level-3);\n",
       "  color: var(--sklearn-color-background);\n",
       "  text-decoration: none;\n",
       "}\n",
       "\n",
       "div.sk-estimator.fitted:hover .sk-estimator-doc-link.fitted:hover,\n",
       ".sk-estimator-doc-link.fitted:hover,\n",
       "div.sk-label-container:hover .sk-estimator-doc-link.fitted:hover,\n",
       ".sk-estimator-doc-link.fitted:hover {\n",
       "  /* fitted */\n",
       "  background-color: var(--sklearn-color-fitted-level-3);\n",
       "  color: var(--sklearn-color-background);\n",
       "  text-decoration: none;\n",
       "}\n",
       "\n",
       "/* Span, style for the box shown on hovering the info icon */\n",
       ".sk-estimator-doc-link span {\n",
       "  display: none;\n",
       "  z-index: 9999;\n",
       "  position: relative;\n",
       "  font-weight: normal;\n",
       "  right: .2ex;\n",
       "  padding: .5ex;\n",
       "  margin: .5ex;\n",
       "  width: min-content;\n",
       "  min-width: 20ex;\n",
       "  max-width: 50ex;\n",
       "  color: var(--sklearn-color-text);\n",
       "  box-shadow: 2pt 2pt 4pt #999;\n",
       "  /* unfitted */\n",
       "  background: var(--sklearn-color-unfitted-level-0);\n",
       "  border: .5pt solid var(--sklearn-color-unfitted-level-3);\n",
       "}\n",
       "\n",
       ".sk-estimator-doc-link.fitted span {\n",
       "  /* fitted */\n",
       "  background: var(--sklearn-color-fitted-level-0);\n",
       "  border: var(--sklearn-color-fitted-level-3);\n",
       "}\n",
       "\n",
       ".sk-estimator-doc-link:hover span {\n",
       "  display: block;\n",
       "}\n",
       "\n",
       "/* \"?\"-specific style due to the `<a>` HTML tag */\n",
       "\n",
       "#sk-container-id-3 a.estimator_doc_link {\n",
       "  float: right;\n",
       "  font-size: 1rem;\n",
       "  line-height: 1em;\n",
       "  font-family: monospace;\n",
       "  background-color: var(--sklearn-color-background);\n",
       "  border-radius: 1rem;\n",
       "  height: 1rem;\n",
       "  width: 1rem;\n",
       "  text-decoration: none;\n",
       "  /* unfitted */\n",
       "  color: var(--sklearn-color-unfitted-level-1);\n",
       "  border: var(--sklearn-color-unfitted-level-1) 1pt solid;\n",
       "}\n",
       "\n",
       "#sk-container-id-3 a.estimator_doc_link.fitted {\n",
       "  /* fitted */\n",
       "  border: var(--sklearn-color-fitted-level-1) 1pt solid;\n",
       "  color: var(--sklearn-color-fitted-level-1);\n",
       "}\n",
       "\n",
       "/* On hover */\n",
       "#sk-container-id-3 a.estimator_doc_link:hover {\n",
       "  /* unfitted */\n",
       "  background-color: var(--sklearn-color-unfitted-level-3);\n",
       "  color: var(--sklearn-color-background);\n",
       "  text-decoration: none;\n",
       "}\n",
       "\n",
       "#sk-container-id-3 a.estimator_doc_link.fitted:hover {\n",
       "  /* fitted */\n",
       "  background-color: var(--sklearn-color-fitted-level-3);\n",
       "}\n",
       "</style><div id=\"sk-container-id-3\" class=\"sk-top-container\"><div class=\"sk-text-repr-fallback\"><pre>RandomForestRegressor(max_depth=20, max_features=14, n_estimators=700)</pre><b>In a Jupyter environment, please rerun this cell to show the HTML representation or trust the notebook. <br />On GitHub, the HTML representation is unable to render, please try loading this page with nbviewer.org.</b></div><div class=\"sk-container\" hidden><div class=\"sk-item\"><div class=\"sk-estimator fitted sk-toggleable\"><input class=\"sk-toggleable__control sk-hidden--visually\" id=\"sk-estimator-id-3\" type=\"checkbox\" checked><label for=\"sk-estimator-id-3\" class=\"sk-toggleable__label fitted sk-toggleable__label-arrow fitted\">&nbsp;&nbsp;RandomForestRegressor<a class=\"sk-estimator-doc-link fitted\" rel=\"noreferrer\" target=\"_blank\" href=\"https://scikit-learn.org/1.4/modules/generated/sklearn.ensemble.RandomForestRegressor.html\">?<span>Documentation for RandomForestRegressor</span></a><span class=\"sk-estimator-doc-link fitted\">i<span>Fitted</span></span></label><div class=\"sk-toggleable__content fitted\"><pre>RandomForestRegressor(max_depth=20, max_features=14, n_estimators=700)</pre></div> </div></div></div></div>"
      ],
      "text/plain": [
       "RandomForestRegressor(max_depth=20, max_features=14, n_estimators=700)"
      ]
     },
     "execution_count": 89,
     "metadata": {},
     "output_type": "execute_result"
    }
   ],
   "source": [
    "Bar2.fit(X_train, Y_train)"
   ]
  },
  {
   "cell_type": "code",
   "execution_count": 91,
   "id": "0b09ca12-5499-4009-a15a-8d4da2ad31f7",
   "metadata": {},
   "outputs": [],
   "source": [
    "Y_pred = Bar2.predict(X_test)"
   ]
  },
  {
   "cell_type": "code",
   "execution_count": 93,
   "id": "726d6d42-9ab9-4166-acee-ead0787bf88b",
   "metadata": {},
   "outputs": [
    {
     "name": "stdout",
     "output_type": "stream",
     "text": [
      "1197    3\n",
      "975     0\n",
      "1966    0\n",
      "933     2\n",
      "7       6\n",
      "1115    0\n",
      "405     0\n",
      "445     0\n",
      "2300    0\n",
      "1838    0\n",
      "441     2\n",
      "573     4\n",
      "1728    4\n",
      "12      0\n",
      "1288    2\n",
      "871     0\n",
      "523     2\n",
      "1271    1\n",
      "299     0\n",
      "1579    0\n",
      "Name: ed1, dtype: int64\n"
     ]
    }
   ],
   "source": [
    "print(Y_test[:20])"
   ]
  },
  {
   "cell_type": "code",
   "execution_count": 95,
   "id": "389b3496-cdc8-4adf-87b0-db71f1b25e38",
   "metadata": {},
   "outputs": [
    {
     "name": "stdout",
     "output_type": "stream",
     "text": [
      "[1.38226190e+00 4.66865438e-01 5.60511877e-01 8.87410688e-01\n",
      " 2.74285714e+00 3.42399075e-01 1.37727989e-03 5.40365790e-01\n",
      " 3.36317829e-01 1.25614266e-01 3.46285714e+00 1.51795918e+00\n",
      " 6.31428571e+00 3.69394979e-01 2.00713622e-01 9.12467532e-01\n",
      " 1.39714286e+00 3.50000000e+00 9.36335087e-02 3.60604014e-01]\n"
     ]
    }
   ],
   "source": [
    "print(Y_pred[:20])"
   ]
  },
  {
   "cell_type": "code",
   "execution_count": 97,
   "id": "48670cd7-6a9f-4d7d-b522-b1b8a7bf122b",
   "metadata": {},
   "outputs": [
    {
     "name": "stdout",
     "output_type": "stream",
     "text": [
      "Datos del modelo de Bosques Aleatorios regresion:\n",
      "\n",
      "Precisión del modelo:\n",
      "0.9575498322924627\n"
     ]
    }
   ],
   "source": [
    "print('Datos del modelo de Bosques Aleatorios regresion:')\n",
    "print()\n",
    "print('Precisión del modelo:')\n",
    "print(Bar2.score(X_train, Y_train))"
   ]
  },
  {
   "cell_type": "code",
   "execution_count": 99,
   "id": "60ed0961-30ed-4156-be07-12efbac021de",
   "metadata": {},
   "outputs": [],
   "source": [
    "cali_pred_2018 = df.iloc[:, [3, 4, 5, 6, 7, 8, 9, 10, 11, 12, 13, 14, 15, 16, 17, 18, 19, 20, 21, 22, 23, 24, 25, 26, 27, 28, 29, 30, 31]]\n",
    "    "
   ]
  },
  {
   "cell_type": "code",
   "execution_count": 101,
   "id": "20e9f5bb-04f9-4b08-8467-cf94f4a92805",
   "metadata": {},
   "outputs": [],
   "source": [
    "Y_pred_2018 = Bar2.predict(cali_pred_2018)"
   ]
  },
  {
   "cell_type": "code",
   "execution_count": 103,
   "id": "c04d247d-4592-4d92-8f62-33d01be8b546",
   "metadata": {},
   "outputs": [
    {
     "name": "stdout",
     "output_type": "stream",
     "text": [
      "      ed2  ed3  ed4  ed5  ed6  ed7  ed8  ed9  ed10  ed11  ...  ed21  ed22  \\\n",
      "0       0    3    2    1    0    0    1    1     0     0  ...     4     0   \n",
      "1       0    7    4    1    1    6    4    3     6     7  ...     1     4   \n",
      "2       1    3    3    2    3    2    4    3     8     5  ...     5     1   \n",
      "3      14   12   10    9   18   13   11    8    10    14  ...    10    10   \n",
      "4       0    1    1    2    1    1    0    1     1     0  ...     2     0   \n",
      "...   ...  ...  ...  ...  ...  ...  ...  ...   ...   ...  ...   ...   ...   \n",
      "2365    0    1    0    0    1    2    0    2     0     0  ...     3     1   \n",
      "2366    4    8    6    4    4    9    5    5     9     4  ...    11    11   \n",
      "2367    1    0    2    0    0    0    1    2     1     0  ...     3     0   \n",
      "2368    1    3    2    0    2    2    0    3     1     2  ...     1     3   \n",
      "2369    0    3    2    5    1    2    1    0     1     3  ...     1     3   \n",
      "\n",
      "      ed23  ed24  ed25  ed26  ed27  ed28  ed29  ed30  \n",
      "0        3     0     1     0     1     3     1     3  \n",
      "1        3     2     5     0     2     6     6     4  \n",
      "2        1     5     0     1     4     1     1     3  \n",
      "3        5    13    15    14     8    14    10     7  \n",
      "4        0     0     0     0     1     0     0     0  \n",
      "...    ...   ...   ...   ...   ...   ...   ...   ...  \n",
      "2365     0     1     0     0     0     0     0     0  \n",
      "2366    11     8    11     8     9     4    12     6  \n",
      "2367     2     0     1     1     3     3     0     2  \n",
      "2368     0     2     1     5     3     1     3     2  \n",
      "2369     2     2     3     1     0     0     1     1  \n",
      "\n",
      "[2370 rows x 29 columns]\n"
     ]
    }
   ],
   "source": [
    "print(cali_pred_2018)"
   ]
  },
  {
   "cell_type": "code",
   "execution_count": 105,
   "id": "84ceda21-9311-40c2-9bf3-dcfc0b127a56",
   "metadata": {},
   "outputs": [
    {
     "name": "stdout",
     "output_type": "stream",
     "text": [
      "[1.10571429 3.43142857 2.06571429 ... 0.60071825 1.15771235 1.088478  ]\n"
     ]
    }
   ],
   "source": [
    "print(Y_pred_2018)"
   ]
  },
  {
   "cell_type": "code",
   "execution_count": 107,
   "id": "d1ea2c2d-d461-4605-9250-362cd6cf23f5",
   "metadata": {},
   "outputs": [],
   "source": [
    "import csv\n",
    "with open('C:/ML/SegundoEntrenamiento/ResultadosEntrenamiento2.csv', 'w', newline = '') as csvfile:\n",
    "    my_writer = csv.writer(csvfile, delimiter = ' ')\n",
    "    my_writer.writerow(Y_pred_2018)"
   ]
  },
  {
   "cell_type": "code",
   "execution_count": 109,
   "id": "9232f9fc-64f6-4f56-91b1-1e8b4f39451a",
   "metadata": {},
   "outputs": [],
   "source": [
    "cali_pred_2017b = 'C:/ML/SegundoEntrenamiento/Resultados_2017.csv'\n",
    "df1 = pd.read_csv(cali_pred_2017b)"
   ]
  },
  {
   "cell_type": "code",
   "execution_count": 111,
   "id": "6dc3dcbf-ff8f-4599-b11a-71165a471d26",
   "metadata": {},
   "outputs": [
    {
     "name": "stdout",
     "output_type": "stream",
     "text": [
      "(2370, 32)\n"
     ]
    }
   ],
   "source": [
    "print(df1.shape)"
   ]
  },
  {
   "cell_type": "code",
   "execution_count": 113,
   "id": "07757457-2014-437a-a2a1-8385ab30ef2c",
   "metadata": {},
   "outputs": [],
   "source": [
    "cali_pred_2017_gb = df1.iloc[:, [3, 4, 5, 6, 7, 8, 9, 10, 11, 12, 13, 14, 15, 16, 17, 18, 19, 20, 21, 22, 23, 24, 25, 26, 27, 28, 29, 30, 31]]"
   ]
  },
  {
   "cell_type": "code",
   "execution_count": 115,
   "id": "5ccaea95-47b8-4bd8-b476-d830b4803f8f",
   "metadata": {},
   "outputs": [],
   "source": [
    "Y_pred_2018a = Bar2.predict(cali_pred_2017_gb)"
   ]
  },
  {
   "cell_type": "code",
   "execution_count": 117,
   "id": "265197a8-1d46-4ee3-9bb6-8d41b4885433",
   "metadata": {},
   "outputs": [],
   "source": [
    "import csv\n",
    "with open('C:/ML/SegundoEntrenamiento/Resultados_2018.csv', 'w', newline = '') as csvfile:\n",
    "    my_writer = csv.writer(csvfile, delimiter = ' ')\n",
    "    my_writer.writerow(Y_pred_2018a)"
   ]
  },
  {
   "cell_type": "code",
   "execution_count": 119,
   "id": "644a05ca-98b6-46c3-94e8-08626796a5d6",
   "metadata": {},
   "outputs": [],
   "source": [
    "cali_pred_2018b = 'C:/ML/SegundoEntrenamiento/Resultados_2018_prep.csv'\n",
    "df2 = pd.read_csv(cali_pred_2018b)"
   ]
  },
  {
   "cell_type": "code",
   "execution_count": 121,
   "id": "b42856c1-4782-4abd-843e-eaffff4fb61f",
   "metadata": {},
   "outputs": [
    {
     "name": "stdout",
     "output_type": "stream",
     "text": [
      "(2371, 32)\n"
     ]
    }
   ],
   "source": [
    "print(df2.shape)"
   ]
  },
  {
   "cell_type": "code",
   "execution_count": 123,
   "id": "b105a959-3c2e-4ec4-82b7-cbaa89eb7778",
   "metadata": {},
   "outputs": [],
   "source": [
    "cali_pred_2018_gb = df2.iloc[:, [3, 4, 5, 6, 7, 8, 9, 10, 11, 12, 13, 14, 15, 16, 17, 18, 19, 20, 21, 22, 23, 24, 25, 26, 27, 28, 29, 30, 31]]"
   ]
  },
  {
   "cell_type": "code",
   "execution_count": 125,
   "id": "e43441e6-25a5-41e9-8846-435cb72c78e7",
   "metadata": {},
   "outputs": [],
   "source": [
    "Y_pred_2019 = Bar2.predict(cali_pred_2018_gb)"
   ]
  },
  {
   "cell_type": "code",
   "execution_count": 127,
   "id": "b0d572ad-4991-4c3a-bc6e-8bdef788ffd9",
   "metadata": {},
   "outputs": [],
   "source": [
    "import csv\n",
    "with open('C:/ML/SegundoEntrenamiento/Resultados_2019.csv', 'w', newline = '') as csvfile:\n",
    "    my_writer = csv.writer(csvfile, delimiter = ' ')\n",
    "    my_writer.writerow(Y_pred_2019)"
   ]
  },
  {
   "cell_type": "code",
   "execution_count": 129,
   "id": "bdb99845-37c9-4235-9d5c-92c7e482f89c",
   "metadata": {},
   "outputs": [],
   "source": [
    "cali_pred_2019b = 'C:/ML/SegundoEntrenamiento/Resultados_2019_prep.csv'\n",
    "df3 = pd.read_csv(cali_pred_2019b)"
   ]
  },
  {
   "cell_type": "code",
   "execution_count": 131,
   "id": "20b62ce6-8f4e-4b9f-982d-58be31b77765",
   "metadata": {},
   "outputs": [
    {
     "name": "stdout",
     "output_type": "stream",
     "text": [
      "(2371, 32)\n"
     ]
    }
   ],
   "source": [
    "print(df3.shape)"
   ]
  },
  {
   "cell_type": "code",
   "execution_count": 133,
   "id": "ae000ab6-df4c-4c05-a12c-e215388d3e79",
   "metadata": {},
   "outputs": [],
   "source": [
    "cali_pred_2019_gb = df3.iloc[:, [3, 4, 5, 6, 7, 8, 9, 10, 11, 12, 13, 14, 15, 16, 17, 18, 19, 20, 21, 22, 23, 24, 25, 26, 27, 28, 29, 30, 31]]"
   ]
  },
  {
   "cell_type": "code",
   "execution_count": 135,
   "id": "1c668111-6a94-4d26-a7ed-9f34aa8d684f",
   "metadata": {},
   "outputs": [],
   "source": [
    "Y_pred_2020 = Bar2.predict(cali_pred_2019_gb)"
   ]
  },
  {
   "cell_type": "code",
   "execution_count": 137,
   "id": "0577b4bd-e496-4e3c-b062-75902e25382e",
   "metadata": {},
   "outputs": [],
   "source": [
    "import csv\n",
    "with open('C:/ML/SegundoEntrenamiento/Resultados_2020.csv', 'w', newline = '') as csvfile:\n",
    "    my_writer = csv.writer(csvfile, delimiter = ' ')\n",
    "    my_writer.writerow(Y_pred_2020)"
   ]
  },
  {
   "cell_type": "code",
   "execution_count": 139,
   "id": "45d954a9-b7c8-4ed4-861e-b62745471b8e",
   "metadata": {},
   "outputs": [],
   "source": [
    "cali_pred_2020b = 'C:/ML/SegundoEntrenamiento/Resultados_2020_prep.csv'\n",
    "df4 = pd.read_csv(cali_pred_2020b)"
   ]
  },
  {
   "cell_type": "code",
   "execution_count": 141,
   "id": "d5f2ebcc-cb7c-4619-ab0b-413fab597fbe",
   "metadata": {},
   "outputs": [
    {
     "name": "stdout",
     "output_type": "stream",
     "text": [
      "(2370, 32)\n"
     ]
    }
   ],
   "source": [
    "print(df4.shape)"
   ]
  },
  {
   "cell_type": "code",
   "execution_count": 143,
   "id": "0936b5c8-de97-4ff3-aaa1-0118e4cd7c21",
   "metadata": {},
   "outputs": [],
   "source": [
    "cali_pred_2020_gb = df4.iloc[:, [3, 4, 5, 6, 7, 8, 9, 10, 11, 12, 13, 14, 15, 16, 17, 18, 19, 20, 21, 22, 23, 24, 25, 26, 27, 28, 29, 30, 31]]"
   ]
  },
  {
   "cell_type": "code",
   "execution_count": 145,
   "id": "83c61acd-baca-48b2-87a4-d223c246c859",
   "metadata": {},
   "outputs": [],
   "source": [
    "Y_pred_2021 = Bar2.predict(cali_pred_2020_gb)"
   ]
  },
  {
   "cell_type": "code",
   "execution_count": 147,
   "id": "d30b23af-cd64-4be9-8237-6e0f23ad4b8f",
   "metadata": {},
   "outputs": [],
   "source": [
    "import csv\n",
    "with open('C:/ML/SegundoEntrenamiento/Resultados_2021.csv', 'w', newline = '') as csvfile:\n",
    "    my_writer = csv.writer(csvfile, delimiter = ' ')\n",
    "    my_writer.writerow(Y_pred_2021)"
   ]
  },
  {
   "cell_type": "code",
   "execution_count": 149,
   "id": "0bf60984-9f20-42b1-a3d8-b5b4fe3b078f",
   "metadata": {},
   "outputs": [],
   "source": [
    "cali_pred_2021b = 'C:/ML/SegundoEntrenamiento/Resultados_2021_prep.csv'\n",
    "df5 = pd.read_csv(cali_pred_2021b)"
   ]
  },
  {
   "cell_type": "code",
   "execution_count": 151,
   "id": "e384c53a-75ff-4158-be5b-6e9cffb37c85",
   "metadata": {},
   "outputs": [
    {
     "name": "stdout",
     "output_type": "stream",
     "text": [
      "(2370, 32)\n"
     ]
    }
   ],
   "source": [
    "print(df5.shape)"
   ]
  },
  {
   "cell_type": "code",
   "execution_count": 153,
   "id": "d7cf812d-eaf5-439a-83ee-22bdb0cacd5c",
   "metadata": {},
   "outputs": [],
   "source": [
    "cali_pred_2021_gb = df5.iloc[:, [3, 4, 5, 6, 7, 8, 9, 10, 11, 12, 13, 14, 15, 16, 17, 18, 19, 20, 21, 22, 23, 24, 25, 26, 27, 28, 29, 30, 31]]"
   ]
  },
  {
   "cell_type": "code",
   "execution_count": 155,
   "id": "2f0ff281-5aed-4c0c-953b-13c49d5e4d77",
   "metadata": {},
   "outputs": [],
   "source": [
    "Y_pred_2022 = Bar2.predict(cali_pred_2021_gb)"
   ]
  },
  {
   "cell_type": "code",
   "execution_count": 157,
   "id": "a17c223c-eb00-49b3-bf61-d2580ce54e34",
   "metadata": {},
   "outputs": [],
   "source": [
    "import csv\n",
    "with open('C:/ML/SegundoEntrenamiento/Resultados_2022.csv', 'w', newline = '') as csvfile:\n",
    "    my_writer = csv.writer(csvfile, delimiter = ' ')\n",
    "    my_writer.writerow(Y_pred_2022)"
   ]
  },
  {
   "cell_type": "code",
   "execution_count": 159,
   "id": "ecfe5e62-41be-4cac-986c-b5e8916139cd",
   "metadata": {},
   "outputs": [],
   "source": [
    "cali_pred_2022b = 'C:/ML/SegundoEntrenamiento/Resultados_2022_prep.csv'\n",
    "df6 = pd.read_csv(cali_pred_2022b)"
   ]
  },
  {
   "cell_type": "code",
   "execution_count": 161,
   "id": "5460ffed-a9bb-44d2-83bf-99d41ed39619",
   "metadata": {},
   "outputs": [
    {
     "name": "stdout",
     "output_type": "stream",
     "text": [
      "(2370, 32)\n"
     ]
    }
   ],
   "source": [
    "print(df6.shape)"
   ]
  },
  {
   "cell_type": "code",
   "execution_count": 163,
   "id": "6e5e56d4-833f-471b-982f-95306e629464",
   "metadata": {},
   "outputs": [],
   "source": [
    "cali_pred_2022_gb = df6.iloc[:, [3, 4, 5, 6, 7, 8, 9, 10, 11, 12, 13, 14, 15, 16, 17, 18, 19, 20, 21, 22, 23, 24, 25, 26, 27, 28, 29, 30, 31]]"
   ]
  },
  {
   "cell_type": "code",
   "execution_count": 165,
   "id": "4a6f32c2-536d-4f13-8ac6-3322a6eb63a0",
   "metadata": {},
   "outputs": [],
   "source": [
    "Y_pred_2023 = Bar2.predict(cali_pred_2022_gb)"
   ]
  },
  {
   "cell_type": "code",
   "execution_count": 167,
   "id": "6a1e322b-8981-425f-9caa-f36cd9debe0c",
   "metadata": {},
   "outputs": [],
   "source": [
    "import csv\n",
    "with open('C:/ML/SegundoEntrenamiento/Resultados_2023.csv', 'w', newline = '') as csvfile:\n",
    "    my_writer = csv.writer(csvfile, delimiter = ' ')\n",
    "    my_writer.writerow(Y_pred_2023)"
   ]
  },
  {
   "cell_type": "code",
   "execution_count": 179,
   "id": "ec5bbae8-c01d-4d0e-ad5d-ccdb19381f35",
   "metadata": {},
   "outputs": [],
   "source": [
    "cali_pred_2023b = 'C:/ML/SegundoEntrenamiento/Resultados_2023_prep.csv'\n",
    "df7 = pd.read_csv(cali_pred_2023b)"
   ]
  },
  {
   "cell_type": "code",
   "execution_count": 181,
   "id": "626c693b-55ea-42d6-bf31-d18180900ed2",
   "metadata": {},
   "outputs": [
    {
     "name": "stdout",
     "output_type": "stream",
     "text": [
      "(2370, 32)\n"
     ]
    }
   ],
   "source": [
    "print(df7.shape)"
   ]
  },
  {
   "cell_type": "code",
   "execution_count": 183,
   "id": "f5a4fbf9-853f-4513-8250-22ab63f52f0d",
   "metadata": {},
   "outputs": [],
   "source": [
    "cali_pred_2023_gb = df7.iloc[:, [3, 4, 5, 6, 7, 8, 9, 10, 11, 12, 13, 14, 15, 16, 17, 18, 19, 20, 21, 22, 23, 24, 25, 26, 27, 28, 29, 30, 31]]"
   ]
  },
  {
   "cell_type": "code",
   "execution_count": 185,
   "id": "75066083-ce46-4e49-a236-d036161efee8",
   "metadata": {},
   "outputs": [],
   "source": [
    "Y_pred_2024 = Bar2.predict(cali_pred_2023_gb)"
   ]
  },
  {
   "cell_type": "code",
   "execution_count": 187,
   "id": "dbe1c5fc-eca0-4c42-9263-d1ef8436d0c5",
   "metadata": {},
   "outputs": [],
   "source": [
    "import csv\n",
    "with open('C:/ML/SegundoEntrenamiento/Resultados_2024.csv', 'w', newline = '') as csvfile:\n",
    "    my_writer = csv.writer(csvfile, delimiter = ' ')\n",
    "    my_writer.writerow(Y_pred_2024)"
   ]
  },
  {
   "cell_type": "code",
   "execution_count": 189,
   "id": "86f6309b-52b3-4b3b-8ce9-0e8b94531331",
   "metadata": {},
   "outputs": [],
   "source": [
    "cali_pred_2024b = 'C:/ML/SegundoEntrenamiento/Resultados_2024_prep.csv'\n",
    "df8 = pd.read_csv(cali_pred_2024b)"
   ]
  },
  {
   "cell_type": "code",
   "execution_count": 191,
   "id": "a30e103a-15ec-48ea-94d5-bed70f409c24",
   "metadata": {},
   "outputs": [
    {
     "name": "stdout",
     "output_type": "stream",
     "text": [
      "(2370, 32)\n"
     ]
    }
   ],
   "source": [
    "print(df8.shape)"
   ]
  },
  {
   "cell_type": "code",
   "execution_count": 193,
   "id": "33073018-4f96-4812-b8d9-9003d4d46e16",
   "metadata": {},
   "outputs": [],
   "source": [
    "cali_pred_2024_gb = df8.iloc[:, [3, 4, 5, 6, 7, 8, 9, 10, 11, 12, 13, 14, 15, 16, 17, 18, 19, 20, 21, 22, 23, 24, 25, 26, 27, 28, 29, 30, 31]]"
   ]
  },
  {
   "cell_type": "code",
   "execution_count": 195,
   "id": "800ece17-b312-4d00-8ceb-291cb3a964d4",
   "metadata": {},
   "outputs": [],
   "source": [
    "Y_pred_2025 = Bar2.predict(cali_pred_2024_gb)"
   ]
  },
  {
   "cell_type": "code",
   "execution_count": 197,
   "id": "2c17e13d-fd96-4ddc-be8c-b342f0f78903",
   "metadata": {},
   "outputs": [],
   "source": [
    "import csv\n",
    "with open('C:/ML/SegundoEntrenamiento/Resultados_2025.csv', 'w', newline = '') as csvfile:\n",
    "    my_writer = csv.writer(csvfile, delimiter = ' ')\n",
    "    my_writer.writerow(Y_pred_2025)"
   ]
  },
  {
   "cell_type": "code",
   "execution_count": 199,
   "id": "161b7752-3556-4cd8-8e85-6fa38dc30e00",
   "metadata": {},
   "outputs": [],
   "source": [
    "cali_pred_2025b = 'C:/ML/SegundoEntrenamiento/Resultados_2025_prep.csv'\n",
    "df9 = pd.read_csv(cali_pred_2025b)"
   ]
  },
  {
   "cell_type": "code",
   "execution_count": 201,
   "id": "7eb761c0-8f2b-47d4-8486-510ed84dd0a1",
   "metadata": {},
   "outputs": [
    {
     "name": "stdout",
     "output_type": "stream",
     "text": [
      "(2370, 32)\n"
     ]
    }
   ],
   "source": [
    "print(df9.shape)"
   ]
  },
  {
   "cell_type": "code",
   "execution_count": 203,
   "id": "c0efde3c-5330-4afd-9ca0-a09940eb55e8",
   "metadata": {},
   "outputs": [],
   "source": [
    "cali_pred_2025_gb = df9.iloc[:, [3, 4, 5, 6, 7, 8, 9, 10, 11, 12, 13, 14, 15, 16, 17, 18, 19, 20, 21, 22, 23, 24, 25, 26, 27, 28, 29, 30, 31]]"
   ]
  },
  {
   "cell_type": "code",
   "execution_count": 205,
   "id": "bc0e7d5e-fde0-474f-a512-52d64d7c0310",
   "metadata": {},
   "outputs": [],
   "source": [
    "Y_pred_2026 = Bar2.predict(cali_pred_2025_gb)"
   ]
  },
  {
   "cell_type": "code",
   "execution_count": 207,
   "id": "24d92b7d-d892-4d00-a035-ec8d82f2f2c0",
   "metadata": {},
   "outputs": [],
   "source": [
    "import csv\n",
    "with open('C:/ML/SegundoEntrenamiento/Resultados_2026.csv', 'w', newline = '') as csvfile:\n",
    "    my_writer = csv.writer(csvfile, delimiter = ' ')\n",
    "    my_writer.writerow(Y_pred_2026)"
   ]
  },
  {
   "cell_type": "code",
   "execution_count": 209,
   "id": "0da25fbc-81ee-4e23-b2a4-659a6ab18189",
   "metadata": {},
   "outputs": [],
   "source": [
    "cali_pred_2026b = 'C:/ML/SegundoEntrenamiento/Resultados_2026_prep.csv'\n",
    "df10 = pd.read_csv(cali_pred_2026b)"
   ]
  },
  {
   "cell_type": "code",
   "execution_count": 211,
   "id": "9de68d48-fe5c-4d3d-8b94-1b0656d13ab3",
   "metadata": {},
   "outputs": [
    {
     "name": "stdout",
     "output_type": "stream",
     "text": [
      "(2370, 32)\n"
     ]
    }
   ],
   "source": [
    "print(df10.shape)"
   ]
  },
  {
   "cell_type": "code",
   "execution_count": 213,
   "id": "c7ed1956-d52a-453a-8478-136c06973e74",
   "metadata": {},
   "outputs": [],
   "source": [
    "cali_pred_2026_gb = df10.iloc[:, [3, 4, 5, 6, 7, 8, 9, 10, 11, 12, 13, 14, 15, 16, 17, 18, 19, 20, 21, 22, 23, 24, 25, 26, 27, 28, 29, 30, 31]]"
   ]
  },
  {
   "cell_type": "code",
   "execution_count": 215,
   "id": "6ca58519-44a3-4ca9-9bc2-f80c57df2c13",
   "metadata": {},
   "outputs": [],
   "source": [
    "Y_pred_2027 = Bar2.predict(cali_pred_2026_gb)"
   ]
  },
  {
   "cell_type": "code",
   "execution_count": 217,
   "id": "3d299083-7910-4b85-8615-152336d7de73",
   "metadata": {},
   "outputs": [],
   "source": [
    "import csv\n",
    "with open('C:/ML/SegundoEntrenamiento/Resultados_2027.csv', 'w', newline = '') as csvfile:\n",
    "    my_writer = csv.writer(csvfile, delimiter = ' ')\n",
    "    my_writer.writerow(Y_pred_2027)"
   ]
  },
  {
   "cell_type": "code",
   "execution_count": 219,
   "id": "e196bfa5-9c6b-4dd2-8c09-92aa15984c68",
   "metadata": {},
   "outputs": [],
   "source": [
    "cali_pred_2027b = 'C:/ML/SegundoEntrenamiento/Resultados_2027_prep.csv'\n",
    "df11 = pd.read_csv(cali_pred_2027b)"
   ]
  },
  {
   "cell_type": "code",
   "execution_count": 221,
   "id": "936f5bba-da47-4b46-a46a-fc91be5dacc3",
   "metadata": {},
   "outputs": [
    {
     "name": "stdout",
     "output_type": "stream",
     "text": [
      "(2370, 32)\n"
     ]
    }
   ],
   "source": [
    "print(df11.shape)"
   ]
  },
  {
   "cell_type": "code",
   "execution_count": 223,
   "id": "828c3315-123f-484c-8c89-9ed0b03382c1",
   "metadata": {},
   "outputs": [],
   "source": [
    "cali_pred_2027_gb = df11.iloc[:, [3, 4, 5, 6, 7, 8, 9, 10, 11, 12, 13, 14, 15, 16, 17, 18, 19, 20, 21, 22, 23, 24, 25, 26, 27, 28, 29, 30, 31]]"
   ]
  },
  {
   "cell_type": "code",
   "execution_count": 225,
   "id": "dd6db44e-4042-4105-80a8-580048e68051",
   "metadata": {},
   "outputs": [],
   "source": [
    "Y_pred_2028 = Bar2.predict(cali_pred_2027_gb)"
   ]
  },
  {
   "cell_type": "code",
   "execution_count": 227,
   "id": "f4766346-d248-4a9b-bd42-d4b9042349ee",
   "metadata": {},
   "outputs": [],
   "source": [
    "import csv\n",
    "with open('C:/ML/SegundoEntrenamiento/Resultados_2028.csv', 'w', newline = '') as csvfile:\n",
    "    my_writer = csv.writer(csvfile, delimiter = ' ')\n",
    "    my_writer.writerow(Y_pred_2028)"
   ]
  },
  {
   "cell_type": "code",
   "execution_count": 233,
   "id": "ae2031a7-e26b-48a9-a27a-c12735619f55",
   "metadata": {},
   "outputs": [],
   "source": [
    "cali_pred_2028b = 'C:/ML/SegundoEntrenamiento/Resultados_2028_prep.csv'\n",
    "df12 = pd.read_csv(cali_pred_2028b)"
   ]
  },
  {
   "cell_type": "code",
   "execution_count": 235,
   "id": "c4e714b1-a962-4476-8952-bef00527ca1a",
   "metadata": {},
   "outputs": [
    {
     "name": "stdout",
     "output_type": "stream",
     "text": [
      "(2370, 32)\n"
     ]
    }
   ],
   "source": [
    "print(df12.shape)"
   ]
  },
  {
   "cell_type": "code",
   "execution_count": 237,
   "id": "6d9d88b7-8f1d-46b2-8893-f07885a81b8f",
   "metadata": {},
   "outputs": [],
   "source": [
    "cali_pred_2028_gb = df12.iloc[:, [3, 4, 5, 6, 7, 8, 9, 10, 11, 12, 13, 14, 15, 16, 17, 18, 19, 20, 21, 22, 23, 24, 25, 26, 27, 28, 29, 30, 31]]"
   ]
  },
  {
   "cell_type": "code",
   "execution_count": 239,
   "id": "bf2376c2-75f2-4d27-bd01-e19561de1b00",
   "metadata": {},
   "outputs": [],
   "source": [
    "Y_pred_2029 = Bar2.predict(cali_pred_2028_gb)"
   ]
  },
  {
   "cell_type": "code",
   "execution_count": 241,
   "id": "0a88a7d4-cf20-4c7c-a304-98f6a36f5ac7",
   "metadata": {},
   "outputs": [],
   "source": [
    "import csv\n",
    "with open('C:/ML/SegundoEntrenamiento/Resultados_2029.csv', 'w', newline = '') as csvfile:\n",
    "    my_writer = csv.writer(csvfile, delimiter = ' ')\n",
    "    my_writer.writerow(Y_pred_2029)"
   ]
  },
  {
   "cell_type": "code",
   "execution_count": 243,
   "id": "bbfa2dfe-7812-4ad9-a752-52b592f4f9e7",
   "metadata": {},
   "outputs": [],
   "source": [
    "cali_pred_2029b = 'C:/ML/SegundoEntrenamiento/Resultados_2029_prep.csv'\n",
    "df13 = pd.read_csv(cali_pred_2029b)"
   ]
  },
  {
   "cell_type": "code",
   "execution_count": 245,
   "id": "b6567523-1b62-4286-9dcf-f0d82544710d",
   "metadata": {},
   "outputs": [
    {
     "name": "stdout",
     "output_type": "stream",
     "text": [
      "(2370, 32)\n"
     ]
    }
   ],
   "source": [
    "print(df13.shape)"
   ]
  },
  {
   "cell_type": "code",
   "execution_count": 247,
   "id": "a4d179bb-7c76-48b8-b538-27c732858e28",
   "metadata": {},
   "outputs": [],
   "source": [
    "cali_pred_2029_gb = df13.iloc[:, [3, 4, 5, 6, 7, 8, 9, 10, 11, 12, 13, 14, 15, 16, 17, 18, 19, 20, 21, 22, 23, 24, 25, 26, 27, 28, 29, 30, 31]]"
   ]
  },
  {
   "cell_type": "code",
   "execution_count": 251,
   "id": "8272354f-3d8a-496a-8964-b52248bba5a6",
   "metadata": {},
   "outputs": [],
   "source": [
    "Y_pred_2030 = Bar2.predict(cali_pred_2029_gb)"
   ]
  },
  {
   "cell_type": "code",
   "execution_count": 253,
   "id": "a3c043cc-b770-42ea-9ca3-4fefc6970906",
   "metadata": {},
   "outputs": [],
   "source": [
    "import csv\n",
    "with open('C:/ML/SegundoEntrenamiento/Resultados_2030.csv', 'w', newline = '') as csvfile:\n",
    "    my_writer = csv.writer(csvfile, delimiter = ' ')\n",
    "    my_writer.writerow(Y_pred_2030)"
   ]
  },
  {
   "cell_type": "code",
   "execution_count": 255,
   "id": "175dc8f0-bf03-4c23-a735-1f9a9fd302c0",
   "metadata": {},
   "outputs": [],
   "source": [
    "cali_pred_2030b = 'C:/ML/SegundoEntrenamiento/Resultados_2030_prep.csv'\n",
    "df14 = pd.read_csv(cali_pred_2030b)"
   ]
  },
  {
   "cell_type": "code",
   "execution_count": 257,
   "id": "28edd7fe-0564-4519-be0c-31364d5406f4",
   "metadata": {},
   "outputs": [
    {
     "name": "stdout",
     "output_type": "stream",
     "text": [
      "(2370, 32)\n"
     ]
    }
   ],
   "source": [
    "print(df14.shape)"
   ]
  },
  {
   "cell_type": "code",
   "execution_count": 259,
   "id": "3d3f4a87-857d-4ef6-922f-01134e5acddf",
   "metadata": {},
   "outputs": [],
   "source": [
    "cali_pred_2030_gb = df14.iloc[:, [3, 4, 5, 6, 7, 8, 9, 10, 11, 12, 13, 14, 15, 16, 17, 18, 19, 20, 21, 22, 23, 24, 25, 26, 27, 28, 29, 30, 31]]"
   ]
  },
  {
   "cell_type": "code",
   "execution_count": 261,
   "id": "5dc6d958-e6c0-4ed4-98f7-049ba3630aad",
   "metadata": {},
   "outputs": [],
   "source": [
    "Y_pred_2031 = Bar2.predict(cali_pred_2030_gb)"
   ]
  },
  {
   "cell_type": "code",
   "execution_count": 263,
   "id": "1c732e9d-d128-4322-b7a1-356f39f72229",
   "metadata": {},
   "outputs": [],
   "source": [
    "import csv\n",
    "with open('C:/ML/SegundoEntrenamiento/Resultados_2031.csv', 'w', newline = '') as csvfile:\n",
    "    my_writer = csv.writer(csvfile, delimiter = ' ')\n",
    "    my_writer.writerow(Y_pred_2031)"
   ]
  },
  {
   "cell_type": "code",
   "execution_count": 265,
   "id": "0ed1f583-c48e-429b-a5ad-f450dabe5409",
   "metadata": {},
   "outputs": [],
   "source": [
    "cali_pred_2031b = 'C:/ML/SegundoEntrenamiento/Resultados_2031_prep.csv'\n",
    "df15 = pd.read_csv(cali_pred_2031b)"
   ]
  },
  {
   "cell_type": "code",
   "execution_count": 267,
   "id": "5c19f28b-5150-4ef1-962e-959e54d2610d",
   "metadata": {},
   "outputs": [
    {
     "name": "stdout",
     "output_type": "stream",
     "text": [
      "(2370, 32)\n"
     ]
    }
   ],
   "source": [
    "print(df15.shape)"
   ]
  },
  {
   "cell_type": "code",
   "execution_count": 269,
   "id": "eb1f1377-b1bf-4a69-bd60-dd772f415d9f",
   "metadata": {},
   "outputs": [],
   "source": [
    "cali_pred_2031_gb = df15.iloc[:, [3, 4, 5, 6, 7, 8, 9, 10, 11, 12, 13, 14, 15, 16, 17, 18, 19, 20, 21, 22, 23, 24, 25, 26, 27, 28, 29, 30, 31]]"
   ]
  },
  {
   "cell_type": "code",
   "execution_count": 271,
   "id": "2f515e0c-8c4f-4c49-88f0-0b47338a05ad",
   "metadata": {},
   "outputs": [],
   "source": [
    "Y_pred_2032 = Bar2.predict(cali_pred_2031_gb)"
   ]
  },
  {
   "cell_type": "code",
   "execution_count": null,
   "id": "d864bb98-8832-46fc-92dc-6e2d127ce2f8",
   "metadata": {},
   "outputs": [],
   "source": [
    "import csv\n",
    "with open('C:/ML/SegundoEntrenamiento/Resultados_2032.csv', 'w', newline = '') as csvfile:\n",
    "    my_writer = csv.writer(csvfile, delimiter = ' ')\n",
    "    my_writer.writerow(Y_pred_2032)"
   ]
  }
 ],
 "metadata": {
  "kernelspec": {
   "display_name": "Python 3 (ipykernel)",
   "language": "python",
   "name": "python3"
  },
  "language_info": {
   "codemirror_mode": {
    "name": "ipython",
    "version": 3
   },
   "file_extension": ".py",
   "mimetype": "text/x-python",
   "name": "python",
   "nbconvert_exporter": "python",
   "pygments_lexer": "ipython3",
   "version": "3.12.4"
  }
 },
 "nbformat": 4,
 "nbformat_minor": 5
}
