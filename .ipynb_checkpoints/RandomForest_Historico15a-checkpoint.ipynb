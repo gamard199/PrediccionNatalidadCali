{
 "cells": [
  {
   "cell_type": "code",
   "execution_count": 1,
   "id": "e30dc9e7-3e7e-40f7-9695-7814a30e8e0f",
   "metadata": {},
   "outputs": [],
   "source": [
    "import numpy as np\n",
    "import pandas as pd\n",
    "import matplotlib.pyplot as plt\n",
    "import csv\n",
    "\n",
    "# Carga de los datos de indicadores de natalidad \n",
    "cali_nac = 'C:/ML/ProyectoML/Tablas/nacimientos_final.csv'\n",
    "df = pd.read_csv(cali_nac)"
   ]
  },
  {
   "cell_type": "code",
   "execution_count": 2,
   "id": "9cc62ead-6ce2-49ec-8ddf-119d5fbd4606",
   "metadata": {},
   "outputs": [
    {
     "name": "stdout",
     "output_type": "stream",
     "text": [
      "(2370, 15)\n"
     ]
    }
   ],
   "source": [
    "print(df.shape)"
   ]
  },
  {
   "cell_type": "code",
   "execution_count": 5,
   "id": "dae40b65-dc7a-45ef-bbf0-f757895221bf",
   "metadata": {},
   "outputs": [
    {
     "name": "stdout",
     "output_type": "stream",
     "text": [
      "0       1\n",
      "1       8\n",
      "2       0\n",
      "3       1\n",
      "4       4\n",
      "       ..\n",
      "2365    1\n",
      "2366    0\n",
      "2367    5\n",
      "2368    1\n",
      "2369    0\n",
      "Name: ed1, Length: 2370, dtype: int64\n"
     ]
    }
   ],
   "source": [
    "print(df['ed1'])"
   ]
  },
  {
   "cell_type": "code",
   "execution_count": 7,
   "id": "c30e87b2-b2c6-4999-aff5-8053c6a6ccaa",
   "metadata": {},
   "outputs": [],
   "source": [
    "X = df.iloc[:, [0, 1, 2, 3, 4, 5, 6, 7, 8, 9, 10, 11, 12, 13]]\n",
    "Y = df.iloc[:, 14]"
   ]
  },
  {
   "cell_type": "code",
   "execution_count": 9,
   "id": "7fa7a879-7e43-4294-a332-a2d319554c77",
   "metadata": {},
   "outputs": [],
   "source": [
    "from sklearn.model_selection import train_test_split\n",
    "\n",
    "X_train, X_test, Y_train, Y_test = train_test_split(X, Y, test_size = 0.2)"
   ]
  },
  {
   "cell_type": "code",
   "execution_count": 10,
   "id": "6fa258ba-81f0-445e-8cec-630323c8de91",
   "metadata": {},
   "outputs": [],
   "source": [
    "from sklearn.ensemble import RandomForestRegressor\n",
    "\n",
    "Bar = RandomForestRegressor(n_estimators = 700, max_depth = 20, max_features = 14)"
   ]
  },
  {
   "cell_type": "code",
   "execution_count": 13,
   "id": "12f4808d-b0a4-43bc-bb2b-aa81d48268aa",
   "metadata": {
    "scrolled": true
   },
   "outputs": [
    {
     "data": {
      "text/html": [
       "<style>#sk-container-id-1 {\n",
       "  /* Definition of color scheme common for light and dark mode */\n",
       "  --sklearn-color-text: black;\n",
       "  --sklearn-color-line: gray;\n",
       "  /* Definition of color scheme for unfitted estimators */\n",
       "  --sklearn-color-unfitted-level-0: #fff5e6;\n",
       "  --sklearn-color-unfitted-level-1: #f6e4d2;\n",
       "  --sklearn-color-unfitted-level-2: #ffe0b3;\n",
       "  --sklearn-color-unfitted-level-3: chocolate;\n",
       "  /* Definition of color scheme for fitted estimators */\n",
       "  --sklearn-color-fitted-level-0: #f0f8ff;\n",
       "  --sklearn-color-fitted-level-1: #d4ebff;\n",
       "  --sklearn-color-fitted-level-2: #b3dbfd;\n",
       "  --sklearn-color-fitted-level-3: cornflowerblue;\n",
       "\n",
       "  /* Specific color for light theme */\n",
       "  --sklearn-color-text-on-default-background: var(--sg-text-color, var(--theme-code-foreground, var(--jp-content-font-color1, black)));\n",
       "  --sklearn-color-background: var(--sg-background-color, var(--theme-background, var(--jp-layout-color0, white)));\n",
       "  --sklearn-color-border-box: var(--sg-text-color, var(--theme-code-foreground, var(--jp-content-font-color1, black)));\n",
       "  --sklearn-color-icon: #696969;\n",
       "\n",
       "  @media (prefers-color-scheme: dark) {\n",
       "    /* Redefinition of color scheme for dark theme */\n",
       "    --sklearn-color-text-on-default-background: var(--sg-text-color, var(--theme-code-foreground, var(--jp-content-font-color1, white)));\n",
       "    --sklearn-color-background: var(--sg-background-color, var(--theme-background, var(--jp-layout-color0, #111)));\n",
       "    --sklearn-color-border-box: var(--sg-text-color, var(--theme-code-foreground, var(--jp-content-font-color1, white)));\n",
       "    --sklearn-color-icon: #878787;\n",
       "  }\n",
       "}\n",
       "\n",
       "#sk-container-id-1 {\n",
       "  color: var(--sklearn-color-text);\n",
       "}\n",
       "\n",
       "#sk-container-id-1 pre {\n",
       "  padding: 0;\n",
       "}\n",
       "\n",
       "#sk-container-id-1 input.sk-hidden--visually {\n",
       "  border: 0;\n",
       "  clip: rect(1px 1px 1px 1px);\n",
       "  clip: rect(1px, 1px, 1px, 1px);\n",
       "  height: 1px;\n",
       "  margin: -1px;\n",
       "  overflow: hidden;\n",
       "  padding: 0;\n",
       "  position: absolute;\n",
       "  width: 1px;\n",
       "}\n",
       "\n",
       "#sk-container-id-1 div.sk-dashed-wrapped {\n",
       "  border: 1px dashed var(--sklearn-color-line);\n",
       "  margin: 0 0.4em 0.5em 0.4em;\n",
       "  box-sizing: border-box;\n",
       "  padding-bottom: 0.4em;\n",
       "  background-color: var(--sklearn-color-background);\n",
       "}\n",
       "\n",
       "#sk-container-id-1 div.sk-container {\n",
       "  /* jupyter's `normalize.less` sets `[hidden] { display: none; }`\n",
       "     but bootstrap.min.css set `[hidden] { display: none !important; }`\n",
       "     so we also need the `!important` here to be able to override the\n",
       "     default hidden behavior on the sphinx rendered scikit-learn.org.\n",
       "     See: https://github.com/scikit-learn/scikit-learn/issues/21755 */\n",
       "  display: inline-block !important;\n",
       "  position: relative;\n",
       "}\n",
       "\n",
       "#sk-container-id-1 div.sk-text-repr-fallback {\n",
       "  display: none;\n",
       "}\n",
       "\n",
       "div.sk-parallel-item,\n",
       "div.sk-serial,\n",
       "div.sk-item {\n",
       "  /* draw centered vertical line to link estimators */\n",
       "  background-image: linear-gradient(var(--sklearn-color-text-on-default-background), var(--sklearn-color-text-on-default-background));\n",
       "  background-size: 2px 100%;\n",
       "  background-repeat: no-repeat;\n",
       "  background-position: center center;\n",
       "}\n",
       "\n",
       "/* Parallel-specific style estimator block */\n",
       "\n",
       "#sk-container-id-1 div.sk-parallel-item::after {\n",
       "  content: \"\";\n",
       "  width: 100%;\n",
       "  border-bottom: 2px solid var(--sklearn-color-text-on-default-background);\n",
       "  flex-grow: 1;\n",
       "}\n",
       "\n",
       "#sk-container-id-1 div.sk-parallel {\n",
       "  display: flex;\n",
       "  align-items: stretch;\n",
       "  justify-content: center;\n",
       "  background-color: var(--sklearn-color-background);\n",
       "  position: relative;\n",
       "}\n",
       "\n",
       "#sk-container-id-1 div.sk-parallel-item {\n",
       "  display: flex;\n",
       "  flex-direction: column;\n",
       "}\n",
       "\n",
       "#sk-container-id-1 div.sk-parallel-item:first-child::after {\n",
       "  align-self: flex-end;\n",
       "  width: 50%;\n",
       "}\n",
       "\n",
       "#sk-container-id-1 div.sk-parallel-item:last-child::after {\n",
       "  align-self: flex-start;\n",
       "  width: 50%;\n",
       "}\n",
       "\n",
       "#sk-container-id-1 div.sk-parallel-item:only-child::after {\n",
       "  width: 0;\n",
       "}\n",
       "\n",
       "/* Serial-specific style estimator block */\n",
       "\n",
       "#sk-container-id-1 div.sk-serial {\n",
       "  display: flex;\n",
       "  flex-direction: column;\n",
       "  align-items: center;\n",
       "  background-color: var(--sklearn-color-background);\n",
       "  padding-right: 1em;\n",
       "  padding-left: 1em;\n",
       "}\n",
       "\n",
       "\n",
       "/* Toggleable style: style used for estimator/Pipeline/ColumnTransformer box that is\n",
       "clickable and can be expanded/collapsed.\n",
       "- Pipeline and ColumnTransformer use this feature and define the default style\n",
       "- Estimators will overwrite some part of the style using the `sk-estimator` class\n",
       "*/\n",
       "\n",
       "/* Pipeline and ColumnTransformer style (default) */\n",
       "\n",
       "#sk-container-id-1 div.sk-toggleable {\n",
       "  /* Default theme specific background. It is overwritten whether we have a\n",
       "  specific estimator or a Pipeline/ColumnTransformer */\n",
       "  background-color: var(--sklearn-color-background);\n",
       "}\n",
       "\n",
       "/* Toggleable label */\n",
       "#sk-container-id-1 label.sk-toggleable__label {\n",
       "  cursor: pointer;\n",
       "  display: block;\n",
       "  width: 100%;\n",
       "  margin-bottom: 0;\n",
       "  padding: 0.5em;\n",
       "  box-sizing: border-box;\n",
       "  text-align: center;\n",
       "}\n",
       "\n",
       "#sk-container-id-1 label.sk-toggleable__label-arrow:before {\n",
       "  /* Arrow on the left of the label */\n",
       "  content: \"▸\";\n",
       "  float: left;\n",
       "  margin-right: 0.25em;\n",
       "  color: var(--sklearn-color-icon);\n",
       "}\n",
       "\n",
       "#sk-container-id-1 label.sk-toggleable__label-arrow:hover:before {\n",
       "  color: var(--sklearn-color-text);\n",
       "}\n",
       "\n",
       "/* Toggleable content - dropdown */\n",
       "\n",
       "#sk-container-id-1 div.sk-toggleable__content {\n",
       "  max-height: 0;\n",
       "  max-width: 0;\n",
       "  overflow: hidden;\n",
       "  text-align: left;\n",
       "  /* unfitted */\n",
       "  background-color: var(--sklearn-color-unfitted-level-0);\n",
       "}\n",
       "\n",
       "#sk-container-id-1 div.sk-toggleable__content.fitted {\n",
       "  /* fitted */\n",
       "  background-color: var(--sklearn-color-fitted-level-0);\n",
       "}\n",
       "\n",
       "#sk-container-id-1 div.sk-toggleable__content pre {\n",
       "  margin: 0.2em;\n",
       "  border-radius: 0.25em;\n",
       "  color: var(--sklearn-color-text);\n",
       "  /* unfitted */\n",
       "  background-color: var(--sklearn-color-unfitted-level-0);\n",
       "}\n",
       "\n",
       "#sk-container-id-1 div.sk-toggleable__content.fitted pre {\n",
       "  /* unfitted */\n",
       "  background-color: var(--sklearn-color-fitted-level-0);\n",
       "}\n",
       "\n",
       "#sk-container-id-1 input.sk-toggleable__control:checked~div.sk-toggleable__content {\n",
       "  /* Expand drop-down */\n",
       "  max-height: 200px;\n",
       "  max-width: 100%;\n",
       "  overflow: auto;\n",
       "}\n",
       "\n",
       "#sk-container-id-1 input.sk-toggleable__control:checked~label.sk-toggleable__label-arrow:before {\n",
       "  content: \"▾\";\n",
       "}\n",
       "\n",
       "/* Pipeline/ColumnTransformer-specific style */\n",
       "\n",
       "#sk-container-id-1 div.sk-label input.sk-toggleable__control:checked~label.sk-toggleable__label {\n",
       "  color: var(--sklearn-color-text);\n",
       "  background-color: var(--sklearn-color-unfitted-level-2);\n",
       "}\n",
       "\n",
       "#sk-container-id-1 div.sk-label.fitted input.sk-toggleable__control:checked~label.sk-toggleable__label {\n",
       "  background-color: var(--sklearn-color-fitted-level-2);\n",
       "}\n",
       "\n",
       "/* Estimator-specific style */\n",
       "\n",
       "/* Colorize estimator box */\n",
       "#sk-container-id-1 div.sk-estimator input.sk-toggleable__control:checked~label.sk-toggleable__label {\n",
       "  /* unfitted */\n",
       "  background-color: var(--sklearn-color-unfitted-level-2);\n",
       "}\n",
       "\n",
       "#sk-container-id-1 div.sk-estimator.fitted input.sk-toggleable__control:checked~label.sk-toggleable__label {\n",
       "  /* fitted */\n",
       "  background-color: var(--sklearn-color-fitted-level-2);\n",
       "}\n",
       "\n",
       "#sk-container-id-1 div.sk-label label.sk-toggleable__label,\n",
       "#sk-container-id-1 div.sk-label label {\n",
       "  /* The background is the default theme color */\n",
       "  color: var(--sklearn-color-text-on-default-background);\n",
       "}\n",
       "\n",
       "/* On hover, darken the color of the background */\n",
       "#sk-container-id-1 div.sk-label:hover label.sk-toggleable__label {\n",
       "  color: var(--sklearn-color-text);\n",
       "  background-color: var(--sklearn-color-unfitted-level-2);\n",
       "}\n",
       "\n",
       "/* Label box, darken color on hover, fitted */\n",
       "#sk-container-id-1 div.sk-label.fitted:hover label.sk-toggleable__label.fitted {\n",
       "  color: var(--sklearn-color-text);\n",
       "  background-color: var(--sklearn-color-fitted-level-2);\n",
       "}\n",
       "\n",
       "/* Estimator label */\n",
       "\n",
       "#sk-container-id-1 div.sk-label label {\n",
       "  font-family: monospace;\n",
       "  font-weight: bold;\n",
       "  display: inline-block;\n",
       "  line-height: 1.2em;\n",
       "}\n",
       "\n",
       "#sk-container-id-1 div.sk-label-container {\n",
       "  text-align: center;\n",
       "}\n",
       "\n",
       "/* Estimator-specific */\n",
       "#sk-container-id-1 div.sk-estimator {\n",
       "  font-family: monospace;\n",
       "  border: 1px dotted var(--sklearn-color-border-box);\n",
       "  border-radius: 0.25em;\n",
       "  box-sizing: border-box;\n",
       "  margin-bottom: 0.5em;\n",
       "  /* unfitted */\n",
       "  background-color: var(--sklearn-color-unfitted-level-0);\n",
       "}\n",
       "\n",
       "#sk-container-id-1 div.sk-estimator.fitted {\n",
       "  /* fitted */\n",
       "  background-color: var(--sklearn-color-fitted-level-0);\n",
       "}\n",
       "\n",
       "/* on hover */\n",
       "#sk-container-id-1 div.sk-estimator:hover {\n",
       "  /* unfitted */\n",
       "  background-color: var(--sklearn-color-unfitted-level-2);\n",
       "}\n",
       "\n",
       "#sk-container-id-1 div.sk-estimator.fitted:hover {\n",
       "  /* fitted */\n",
       "  background-color: var(--sklearn-color-fitted-level-2);\n",
       "}\n",
       "\n",
       "/* Specification for estimator info (e.g. \"i\" and \"?\") */\n",
       "\n",
       "/* Common style for \"i\" and \"?\" */\n",
       "\n",
       ".sk-estimator-doc-link,\n",
       "a:link.sk-estimator-doc-link,\n",
       "a:visited.sk-estimator-doc-link {\n",
       "  float: right;\n",
       "  font-size: smaller;\n",
       "  line-height: 1em;\n",
       "  font-family: monospace;\n",
       "  background-color: var(--sklearn-color-background);\n",
       "  border-radius: 1em;\n",
       "  height: 1em;\n",
       "  width: 1em;\n",
       "  text-decoration: none !important;\n",
       "  margin-left: 1ex;\n",
       "  /* unfitted */\n",
       "  border: var(--sklearn-color-unfitted-level-1) 1pt solid;\n",
       "  color: var(--sklearn-color-unfitted-level-1);\n",
       "}\n",
       "\n",
       ".sk-estimator-doc-link.fitted,\n",
       "a:link.sk-estimator-doc-link.fitted,\n",
       "a:visited.sk-estimator-doc-link.fitted {\n",
       "  /* fitted */\n",
       "  border: var(--sklearn-color-fitted-level-1) 1pt solid;\n",
       "  color: var(--sklearn-color-fitted-level-1);\n",
       "}\n",
       "\n",
       "/* On hover */\n",
       "div.sk-estimator:hover .sk-estimator-doc-link:hover,\n",
       ".sk-estimator-doc-link:hover,\n",
       "div.sk-label-container:hover .sk-estimator-doc-link:hover,\n",
       ".sk-estimator-doc-link:hover {\n",
       "  /* unfitted */\n",
       "  background-color: var(--sklearn-color-unfitted-level-3);\n",
       "  color: var(--sklearn-color-background);\n",
       "  text-decoration: none;\n",
       "}\n",
       "\n",
       "div.sk-estimator.fitted:hover .sk-estimator-doc-link.fitted:hover,\n",
       ".sk-estimator-doc-link.fitted:hover,\n",
       "div.sk-label-container:hover .sk-estimator-doc-link.fitted:hover,\n",
       ".sk-estimator-doc-link.fitted:hover {\n",
       "  /* fitted */\n",
       "  background-color: var(--sklearn-color-fitted-level-3);\n",
       "  color: var(--sklearn-color-background);\n",
       "  text-decoration: none;\n",
       "}\n",
       "\n",
       "/* Span, style for the box shown on hovering the info icon */\n",
       ".sk-estimator-doc-link span {\n",
       "  display: none;\n",
       "  z-index: 9999;\n",
       "  position: relative;\n",
       "  font-weight: normal;\n",
       "  right: .2ex;\n",
       "  padding: .5ex;\n",
       "  margin: .5ex;\n",
       "  width: min-content;\n",
       "  min-width: 20ex;\n",
       "  max-width: 50ex;\n",
       "  color: var(--sklearn-color-text);\n",
       "  box-shadow: 2pt 2pt 4pt #999;\n",
       "  /* unfitted */\n",
       "  background: var(--sklearn-color-unfitted-level-0);\n",
       "  border: .5pt solid var(--sklearn-color-unfitted-level-3);\n",
       "}\n",
       "\n",
       ".sk-estimator-doc-link.fitted span {\n",
       "  /* fitted */\n",
       "  background: var(--sklearn-color-fitted-level-0);\n",
       "  border: var(--sklearn-color-fitted-level-3);\n",
       "}\n",
       "\n",
       ".sk-estimator-doc-link:hover span {\n",
       "  display: block;\n",
       "}\n",
       "\n",
       "/* \"?\"-specific style due to the `<a>` HTML tag */\n",
       "\n",
       "#sk-container-id-1 a.estimator_doc_link {\n",
       "  float: right;\n",
       "  font-size: 1rem;\n",
       "  line-height: 1em;\n",
       "  font-family: monospace;\n",
       "  background-color: var(--sklearn-color-background);\n",
       "  border-radius: 1rem;\n",
       "  height: 1rem;\n",
       "  width: 1rem;\n",
       "  text-decoration: none;\n",
       "  /* unfitted */\n",
       "  color: var(--sklearn-color-unfitted-level-1);\n",
       "  border: var(--sklearn-color-unfitted-level-1) 1pt solid;\n",
       "}\n",
       "\n",
       "#sk-container-id-1 a.estimator_doc_link.fitted {\n",
       "  /* fitted */\n",
       "  border: var(--sklearn-color-fitted-level-1) 1pt solid;\n",
       "  color: var(--sklearn-color-fitted-level-1);\n",
       "}\n",
       "\n",
       "/* On hover */\n",
       "#sk-container-id-1 a.estimator_doc_link:hover {\n",
       "  /* unfitted */\n",
       "  background-color: var(--sklearn-color-unfitted-level-3);\n",
       "  color: var(--sklearn-color-background);\n",
       "  text-decoration: none;\n",
       "}\n",
       "\n",
       "#sk-container-id-1 a.estimator_doc_link.fitted:hover {\n",
       "  /* fitted */\n",
       "  background-color: var(--sklearn-color-fitted-level-3);\n",
       "}\n",
       "</style><div id=\"sk-container-id-1\" class=\"sk-top-container\"><div class=\"sk-text-repr-fallback\"><pre>RandomForestRegressor(max_depth=20, max_features=14, n_estimators=700)</pre><b>In a Jupyter environment, please rerun this cell to show the HTML representation or trust the notebook. <br />On GitHub, the HTML representation is unable to render, please try loading this page with nbviewer.org.</b></div><div class=\"sk-container\" hidden><div class=\"sk-item\"><div class=\"sk-estimator fitted sk-toggleable\"><input class=\"sk-toggleable__control sk-hidden--visually\" id=\"sk-estimator-id-1\" type=\"checkbox\" checked><label for=\"sk-estimator-id-1\" class=\"sk-toggleable__label fitted sk-toggleable__label-arrow fitted\">&nbsp;&nbsp;RandomForestRegressor<a class=\"sk-estimator-doc-link fitted\" rel=\"noreferrer\" target=\"_blank\" href=\"https://scikit-learn.org/1.4/modules/generated/sklearn.ensemble.RandomForestRegressor.html\">?<span>Documentation for RandomForestRegressor</span></a><span class=\"sk-estimator-doc-link fitted\">i<span>Fitted</span></span></label><div class=\"sk-toggleable__content fitted\"><pre>RandomForestRegressor(max_depth=20, max_features=14, n_estimators=700)</pre></div> </div></div></div></div>"
      ],
      "text/plain": [
       "RandomForestRegressor(max_depth=20, max_features=14, n_estimators=700)"
      ]
     },
     "execution_count": 13,
     "metadata": {},
     "output_type": "execute_result"
    }
   ],
   "source": [
    "Bar.fit(X_train, Y_train)"
   ]
  },
  {
   "cell_type": "code",
   "execution_count": 15,
   "id": "258a41d3-4395-4bd9-b4a2-ef38b501919c",
   "metadata": {},
   "outputs": [],
   "source": [
    "Y_pred = Bar.predict(X_test)"
   ]
  },
  {
   "cell_type": "code",
   "execution_count": 17,
   "id": "95b1abb8-82a0-4315-aec7-3ea9e300c54d",
   "metadata": {},
   "outputs": [
    {
     "name": "stdout",
     "output_type": "stream",
     "text": [
      "7        3\n",
      "1325     1\n",
      "1025     1\n",
      "806      0\n",
      "202      0\n",
      "1651     1\n",
      "1044    12\n",
      "2268     0\n",
      "2262     1\n",
      "177     10\n",
      "2084     1\n",
      "2186     0\n",
      "258      4\n",
      "1065     0\n",
      "697      0\n",
      "53       1\n",
      "643      0\n",
      "17       0\n",
      "394      3\n",
      "1353     1\n",
      "Name: ed1, dtype: int64\n"
     ]
    }
   ],
   "source": [
    "print(Y_test[:20])"
   ]
  },
  {
   "cell_type": "code",
   "execution_count": 19,
   "id": "4ff1388c-86b6-4328-a559-eee599b671aa",
   "metadata": {},
   "outputs": [
    {
     "name": "stdout",
     "output_type": "stream",
     "text": [
      "[1.87714286 0.36857808 0.21071671 0.64146415 0.34044467 1.11285714\n",
      " 7.52428571 0.33477462 0.46350713 4.42714286 1.27       1.39987013\n",
      " 5.65428571 1.24142857 0.02708658 0.56316952 0.37369639 0.07158129\n",
      " 0.50641541 0.46605747]\n"
     ]
    }
   ],
   "source": [
    "print(Y_pred[:20])"
   ]
  },
  {
   "cell_type": "code",
   "execution_count": 21,
   "id": "d85c449c-35e5-43ee-b1f7-0c1ab3c99607",
   "metadata": {},
   "outputs": [
    {
     "name": "stdout",
     "output_type": "stream",
     "text": [
      "Datos del modelo Bosques Aleatorios Regresion:\n",
      "\n",
      "Precisión del modelo:\n",
      "0.9460315190588895\n"
     ]
    }
   ],
   "source": [
    "print('Datos del modelo Bosques Aleatorios Regresion:')\n",
    "print()\n",
    "print('Precisión del modelo:')\n",
    "print(Bar.score(X_train, Y_train))"
   ]
  },
  {
   "cell_type": "code",
   "execution_count": 23,
   "id": "ee8db99e-92a0-48dd-a27d-80677356470c",
   "metadata": {},
   "outputs": [],
   "source": [
    "cali_pred_2018 = df.iloc[:, [0,1,2,3,4,5,6,7,8,9,10,11,12,13]]\n",
    "                           "
   ]
  },
  {
   "cell_type": "code",
   "execution_count": 25,
   "id": "831a07f4-e7be-4edb-b0f5-ff31a67f1299",
   "metadata": {},
   "outputs": [],
   "source": [
    "Y_pred_2018 = Bar.predict(cali_pred_2018)"
   ]
  },
  {
   "cell_type": "code",
   "execution_count": 27,
   "id": "c744535e-3b97-4c63-952d-a94e04156cd9",
   "metadata": {},
   "outputs": [
    {
     "name": "stdout",
     "output_type": "stream",
     "text": [
      "      ed15  ed14  ed13  ed12  ed11  ed10  ed9  ed8  ed7  ed6  ed5  ed4  ed3  \\\n",
      "0        2     0     2     2     2     1    0    0    0    2    1    0    0   \n",
      "1       19    18    14    16    11    16   14   11   11   12   16   15   14   \n",
      "2        3     7     1     3     3     3    3    0    1    1    1    2    1   \n",
      "3        1     0     1     0     0     0    0    0    0    0    0    0    1   \n",
      "4        1     2     0     0     3     3    2    1    3    0    2    4    4   \n",
      "...    ...   ...   ...   ...   ...   ...  ...  ...  ...  ...  ...  ...  ...   \n",
      "2365     2     1     1     1     1     2    3    1    3    2    2    0    0   \n",
      "2366     1     0     0     0     0     1    1    0    1    0    1    1    1   \n",
      "2367     1     2     5     3     1     1    6    6    5    7    2    1    2   \n",
      "2368     1     1     0     2     2     1    3    0    2    2    0    2    3   \n",
      "2369     0     0     2     0     0     0    0    1    0    0    0    0    0   \n",
      "\n",
      "      ed2  \n",
      "0       1  \n",
      "1      11  \n",
      "2       1  \n",
      "3       0  \n",
      "4       2  \n",
      "...   ...  \n",
      "2365    1  \n",
      "2366    0  \n",
      "2367    1  \n",
      "2368    1  \n",
      "2369    0  \n",
      "\n",
      "[2370 rows x 14 columns]\n"
     ]
    }
   ],
   "source": [
    "print(cali_pred_2018)"
   ]
  },
  {
   "cell_type": "code",
   "execution_count": 29,
   "id": "674a9b70-717c-4801-9a0a-8546948a1e60",
   "metadata": {},
   "outputs": [
    {
     "name": "stdout",
     "output_type": "stream",
     "text": [
      "[0.95404762 8.99428571 1.23428571 ... 3.85714286 1.10571429 0.09206111]\n"
     ]
    }
   ],
   "source": [
    "print(Y_pred_2018)"
   ]
  },
  {
   "cell_type": "code",
   "execution_count": 65,
   "id": "969360b2-cff6-43be-9a80-8a5b114cf8f7",
   "metadata": {},
   "outputs": [],
   "source": [
    "import csv\n",
    "with open('C:/ML/ProyectoML/Resultados15/ResultadosTrain.csv', 'w', newline = '') as csvfile:\n",
    "    my_writer = csv.writer(csvfile, delimiter = ' ')\n",
    "    my_writer.writerow(Y_pred_2018)"
   ]
  },
  {
   "cell_type": "code",
   "execution_count": 139,
   "id": "2ddf114e-7cb7-4b4d-86d6-2eb97f69cd91",
   "metadata": {},
   "outputs": [],
   "source": [
    "cali_pred_2017 = 'C:/ML/ProyectoML/Resultados/Resultado_1c_2017.csv'\n",
    "df1 = pd.read_csv(cali_pred_2017)"
   ]
  },
  {
   "cell_type": "code",
   "execution_count": 141,
   "id": "af06afb9-6838-4dd4-ad63-6c44a7a221f1",
   "metadata": {},
   "outputs": [
    {
     "name": "stdout",
     "output_type": "stream",
     "text": [
      "(2370, 15)\n"
     ]
    }
   ],
   "source": [
    "print(df1.shape)"
   ]
  },
  {
   "cell_type": "code",
   "execution_count": 143,
   "id": "a64f6166-9246-42e0-ae3e-856306a74e1d",
   "metadata": {},
   "outputs": [],
   "source": [
    "cali_pred_2017_gb = df1.iloc[:, [0,1,2,3,4,5,6,7,8,9,10,11,12,13]]"
   ]
  },
  {
   "cell_type": "code",
   "execution_count": 145,
   "id": "59f59b65-03d4-4784-bb87-78a6ed66de3f",
   "metadata": {},
   "outputs": [],
   "source": [
    "Y_pred_2018a = Bar.predict(cali_pred_2017_gb)"
   ]
  },
  {
   "cell_type": "code",
   "execution_count": 147,
   "id": "05ceb8a5-45b5-4844-9e30-8933e2b00067",
   "metadata": {},
   "outputs": [],
   "source": [
    "import csv\n",
    "with open('C:/ML/ProyectoML/Resultados/Resultado_1d_2017.csv', 'w', newline = '') as csvfile:\n",
    "    my_writer = csv.writer(csvfile, delimiter = ' ')\n",
    "    my_writer.writerow(Y_pred_2018a)"
   ]
  },
  {
   "cell_type": "code",
   "execution_count": 153,
   "id": "cfd7d2ab-79b2-43aa-a45a-12762c0457e7",
   "metadata": {},
   "outputs": [],
   "source": [
    "cali_pred_2018 = 'C:/ML/ProyectoML/Resultados/Resultados_2018_prep1.csv'\n",
    "df2 = pd.read_csv(cali_pred_2018)"
   ]
  },
  {
   "cell_type": "code",
   "execution_count": 155,
   "id": "07d84989-3006-4a1a-b767-375bde3143d2",
   "metadata": {},
   "outputs": [
    {
     "name": "stdout",
     "output_type": "stream",
     "text": [
      "(2371, 14)\n"
     ]
    }
   ],
   "source": [
    "print(df2.shape)"
   ]
  },
  {
   "cell_type": "code",
   "execution_count": 157,
   "id": "4a73de78-5918-42e7-a5b6-63cd59bd2111",
   "metadata": {},
   "outputs": [],
   "source": [
    "cali_pred_2018_gb = df2.iloc[:, [0,1,2,3,4,5,6,7,8,9,10,11,12,13]]"
   ]
  },
  {
   "cell_type": "code",
   "execution_count": 159,
   "id": "ae6748d0-5773-480f-a7ed-e6aa1770772e",
   "metadata": {},
   "outputs": [],
   "source": [
    "Y_pred_2019 = Bar.predict(cali_pred_2018_gb)"
   ]
  },
  {
   "cell_type": "code",
   "execution_count": 161,
   "id": "c1c04121-d169-4216-a1a9-9306a7ab393a",
   "metadata": {},
   "outputs": [],
   "source": [
    "import csv\n",
    "with open('C:/ML/ProyectoML/Resultados/Resultados_2018_prep2.csv', 'w', newline = '') as csvfile:\n",
    "    my_writer = csv.writer(csvfile, delimiter = ' ')\n",
    "    my_writer.writerow(Y_pred_2019)\n",
    "             "
   ]
  },
  {
   "cell_type": "code",
   "execution_count": 171,
   "id": "055408ca-ea52-404f-9e8e-7fd1c2d2572e",
   "metadata": {},
   "outputs": [],
   "source": [
    "cali_pred_2019 = 'C:/ML/ProyectoML/Resultados/Resultados_2019_prep1.csv'\n",
    "df3 = pd.read_csv(cali_pred_2019)"
   ]
  },
  {
   "cell_type": "code",
   "execution_count": 173,
   "id": "7ec2b28d-c942-4102-93e1-344a4fe9945e",
   "metadata": {},
   "outputs": [
    {
     "name": "stdout",
     "output_type": "stream",
     "text": [
      "(2371, 14)\n"
     ]
    }
   ],
   "source": [
    "print(df3.shape)"
   ]
  },
  {
   "cell_type": "code",
   "execution_count": 175,
   "id": "fa40c32e-abd1-4621-a375-9bda904ad3d1",
   "metadata": {},
   "outputs": [],
   "source": [
    "cali_pred_2019_gb = df3.iloc[:, [0,1,2,3,4,5,6,7,8,9,10,11,12,13]]"
   ]
  },
  {
   "cell_type": "code",
   "execution_count": 177,
   "id": "a87f2bc1-966f-4125-b5a1-db204b91967a",
   "metadata": {},
   "outputs": [],
   "source": [
    "Y_pred_2020 = Bar.predict(cali_pred_2019_gb)"
   ]
  },
  {
   "cell_type": "code",
   "execution_count": 179,
   "id": "fcbbea8d-3a17-4341-a0dc-4fdf0b49b80b",
   "metadata": {},
   "outputs": [],
   "source": [
    "import csv\n",
    "with open('C:/ML/ProyectoML/Resultados/Resultados_2019_prep2.csv', 'w', newline = '') as csvfile:\n",
    "    my_writer3 = csv.writer(csvfile, delimiter = ' ')\n",
    "    my_writer3.writerow(Y_pred_2020)"
   ]
  },
  {
   "cell_type": "code",
   "execution_count": 181,
   "id": "f9bee047-20ee-4faf-92bf-b3b029060f59",
   "metadata": {},
   "outputs": [],
   "source": [
    "cali_pred_2020 = 'C:/ML/ProyectoML/Resultados/Resultados_2020_prep1.csv'\n",
    "df4 = pd.read_csv(cali_pred_2020)"
   ]
  },
  {
   "cell_type": "code",
   "execution_count": 183,
   "id": "d9993474-74ee-46b1-a6ee-e495b8c289f9",
   "metadata": {},
   "outputs": [
    {
     "name": "stdout",
     "output_type": "stream",
     "text": [
      "(2371, 14)\n"
     ]
    }
   ],
   "source": [
    "print(df4.shape)"
   ]
  },
  {
   "cell_type": "code",
   "execution_count": 185,
   "id": "830df4cb-7eed-4b10-ad79-761edd013825",
   "metadata": {},
   "outputs": [],
   "source": [
    "cali_pred_2020_gb = df4.iloc[:, [0,1,2,3,4,5,6,7,8,9,10,11,12,13]]"
   ]
  },
  {
   "cell_type": "code",
   "execution_count": 187,
   "id": "c6159f19-535d-4000-9c0b-e1321e481de3",
   "metadata": {},
   "outputs": [],
   "source": [
    "Y_pred_2021 = Bar.predict(cali_pred_2020_gb)"
   ]
  },
  {
   "cell_type": "code",
   "execution_count": 189,
   "id": "d69bd534-7da3-4899-8bb1-2819013250a8",
   "metadata": {},
   "outputs": [],
   "source": [
    "import csv\n",
    "with open('C:/ML/ProyectoML/Resultados/Resultados_2020_prep2.csv', 'w', newline = '') as csvfile:\n",
    "    my_writer4 = csv.writer(csvfile, delimiter = ' ')\n",
    "    my_writer4.writerow(Y_pred_2021)"
   ]
  },
  {
   "cell_type": "code",
   "execution_count": 191,
   "id": "593ebf39-8bf6-41a5-8816-61f849bdf91b",
   "metadata": {},
   "outputs": [],
   "source": [
    "cali_pred_2021 = 'C:/ML/ProyectoML/Resultados/Resultados_2021_prep1.csv'\n",
    "df5 = pd.read_csv(cali_pred_2021)"
   ]
  },
  {
   "cell_type": "code",
   "execution_count": 193,
   "id": "cf1402eb-44e0-4dc1-bf9f-3182ce1df262",
   "metadata": {},
   "outputs": [
    {
     "name": "stdout",
     "output_type": "stream",
     "text": [
      "(2371, 14)\n"
     ]
    }
   ],
   "source": [
    "print(df5.shape)"
   ]
  },
  {
   "cell_type": "code",
   "execution_count": 195,
   "id": "04f8661c-df86-4a94-aa24-7a222d7d204a",
   "metadata": {},
   "outputs": [],
   "source": [
    "cali_pred_2021_gb = df5.iloc[:, [0,1,2,3,4,5,6,7,8,9,10,11,12,13]]"
   ]
  },
  {
   "cell_type": "code",
   "execution_count": 197,
   "id": "f7f0264c-3a1d-434c-9a54-1903a9a80a0f",
   "metadata": {},
   "outputs": [],
   "source": [
    "Y_pred_2022 = Bar.predict(cali_pred_2021_gb)"
   ]
  },
  {
   "cell_type": "code",
   "execution_count": 199,
   "id": "67eaa09a-1c4d-4c00-b174-ce8d84d569c6",
   "metadata": {},
   "outputs": [],
   "source": [
    "import csv\n",
    "with open('C:/ML/ProyectoML/Resultados/Resultados_2021_prep2.csv', 'w', newline = '') as csvfile:\n",
    "    my_writer5 = csv.writer(csvfile, delimiter = ' ')\n",
    "    my_writer5.writerow(Y_pred_2022)"
   ]
  },
  {
   "cell_type": "code",
   "execution_count": 201,
   "id": "52843a6b-0e08-4698-8ab9-1e3009fb74b1",
   "metadata": {},
   "outputs": [],
   "source": [
    "cali_pred_2022 = 'C:/ML/ProyectoML/Resultados/Resultados_2022_prep1.csv'\n",
    "df6 = pd.read_csv(cali_pred_2022)"
   ]
  },
  {
   "cell_type": "code",
   "execution_count": 203,
   "id": "2e099e4d-234d-4ab1-a5ad-c78465a5c6b4",
   "metadata": {},
   "outputs": [
    {
     "name": "stdout",
     "output_type": "stream",
     "text": [
      "(2371, 14)\n"
     ]
    }
   ],
   "source": [
    "print(df6.shape)"
   ]
  },
  {
   "cell_type": "code",
   "execution_count": 205,
   "id": "35287105-5221-486a-bc36-bbdcf692d071",
   "metadata": {},
   "outputs": [],
   "source": [
    "cali_pred_2022_gb = df6.iloc[:, [0,1,2,3,4,5,6,7,8,9,10,11,12,13]]"
   ]
  },
  {
   "cell_type": "code",
   "execution_count": 207,
   "id": "95b6e712-0ba8-47bc-a34f-47cb10b98adf",
   "metadata": {},
   "outputs": [],
   "source": [
    "Y_pred_2023 = Bar.predict(cali_pred_2022_gb)"
   ]
  },
  {
   "cell_type": "code",
   "execution_count": 209,
   "id": "dd724bf5-478f-477c-8d9b-fc7fbc60a4b1",
   "metadata": {},
   "outputs": [],
   "source": [
    "import csv\n",
    "with open('C:/ML/ProyectoML/Resultados/Resultados_2022_prep2.csv', 'w', newline = '') as csvfile:\n",
    "    my_writer6 = csv.writer(csvfile, delimiter = ' ')\n",
    "    my_writer6.writerow(Y_pred_2023)"
   ]
  },
  {
   "cell_type": "code",
   "execution_count": 211,
   "id": "dfe61c80-b003-4d99-bc2d-00a79a76ebbf",
   "metadata": {},
   "outputs": [],
   "source": [
    "cali_pred_2023 = 'C:/ML/ProyectoML/Resultados/Resultados_2023_prep1.csv'\n",
    "df7 =pd.read_csv(cali_pred_2023)"
   ]
  },
  {
   "cell_type": "code",
   "execution_count": 213,
   "id": "37d09864-fd58-4a6b-9c6d-e23504d0448b",
   "metadata": {},
   "outputs": [
    {
     "name": "stdout",
     "output_type": "stream",
     "text": [
      "(2371, 14)\n"
     ]
    }
   ],
   "source": [
    "print(df7.shape)"
   ]
  },
  {
   "cell_type": "code",
   "execution_count": 215,
   "id": "e94e6ea7-c8d7-419b-a04d-ba107ccff992",
   "metadata": {},
   "outputs": [],
   "source": [
    "cali_pred_2023_gb = df7.iloc[:, [0,1,2,3,4,5,6,7,8,9,10,11,12,13]]"
   ]
  },
  {
   "cell_type": "code",
   "execution_count": 217,
   "id": "1a534ae0-0528-4bd3-b46a-853afcf3f109",
   "metadata": {},
   "outputs": [],
   "source": [
    "Y_pred_2024 = Bar.predict(cali_pred_2023_gb)"
   ]
  },
  {
   "cell_type": "code",
   "execution_count": 219,
   "id": "8aae9e5f-3a31-47f6-a53b-22dfba23b5e9",
   "metadata": {},
   "outputs": [],
   "source": [
    "import csv\n",
    "with open('C:/ML/ProyectoML/Resultados/Resultados_2023_prep2.csv', 'w', newline = '') as csvfile:\n",
    "    my_writer7 = csv.writer(csvfile, delimiter = ' ')\n",
    "    my_writer7.writerow(Y_pred_2024)"
   ]
  },
  {
   "cell_type": "code",
   "execution_count": 221,
   "id": "d14af814-b972-47e9-b758-09799842e7f7",
   "metadata": {},
   "outputs": [],
   "source": [
    "cali_pred_2024 = 'C:/ML/ProyectoML/Resultados/Resultados_2024_prep1.csv'\n",
    "df8 = pd.read_csv(cali_pred_2024)"
   ]
  },
  {
   "cell_type": "code",
   "execution_count": 223,
   "id": "071d7d34-23bd-41b5-8062-5413b8db02a4",
   "metadata": {},
   "outputs": [
    {
     "name": "stdout",
     "output_type": "stream",
     "text": [
      "(2371, 14)\n"
     ]
    }
   ],
   "source": [
    "print(df8.shape)"
   ]
  },
  {
   "cell_type": "code",
   "execution_count": 225,
   "id": "2688e909-b2a5-4913-9cb9-6c63075e68e5",
   "metadata": {},
   "outputs": [],
   "source": [
    "cali_pred_2024_gb = df8.iloc[:, [0,1,2,3,4,5,6,7,8,9,10,11,12,13]]"
   ]
  },
  {
   "cell_type": "code",
   "execution_count": 227,
   "id": "b58c9eb5-4dd2-4408-8ee5-2f50caf97ff0",
   "metadata": {},
   "outputs": [],
   "source": [
    "Y_pred_2025 = Bar.predict(cali_pred_2024_gb)"
   ]
  },
  {
   "cell_type": "code",
   "execution_count": 231,
   "id": "c4d3c696-fdb0-4805-a922-69effd5b710e",
   "metadata": {},
   "outputs": [],
   "source": [
    "import csv\n",
    "with open('C:/ML/ProyectoML/Resultados/Resultados_2024_prep2.csv', 'w', newline = '') as csvfile:\n",
    "    my_writer8 = csv.writer(csvfile, delimiter = ' ')\n",
    "    my_writer8.writerow(Y_pred_2025)"
   ]
  },
  {
   "cell_type": "code",
   "execution_count": 233,
   "id": "21af4fd2-330c-43e9-ac17-481317772c60",
   "metadata": {},
   "outputs": [],
   "source": [
    "cali_pred_2025 = 'C:/ML/ProyectoML/Resultados/Resultados_2025_prep1.csv'\n",
    "df9 = pd.read_csv(cali_pred_2025)"
   ]
  },
  {
   "cell_type": "code",
   "execution_count": 235,
   "id": "6407aa31-d907-4f10-8364-bf4b4cc82192",
   "metadata": {},
   "outputs": [
    {
     "name": "stdout",
     "output_type": "stream",
     "text": [
      "(2371, 14)\n"
     ]
    }
   ],
   "source": [
    "print(df9.shape)"
   ]
  },
  {
   "cell_type": "code",
   "execution_count": 237,
   "id": "48f63933-910a-4283-aa8b-2751941399d4",
   "metadata": {},
   "outputs": [],
   "source": [
    "cali_pred_2025_gb = df9.iloc[:, [0,1,2,3,4,5,6,7,8,9,10,11,12,13]]"
   ]
  },
  {
   "cell_type": "code",
   "execution_count": 239,
   "id": "e95defc5-8ab7-4b28-ba72-ef5251e204cc",
   "metadata": {},
   "outputs": [],
   "source": [
    "Y_pred_2026 = Bar.predict(cali_pred_2025_gb)"
   ]
  },
  {
   "cell_type": "code",
   "execution_count": 241,
   "id": "3d92c35a-3829-40e5-a2a7-bb30cb05d13f",
   "metadata": {},
   "outputs": [],
   "source": [
    "import csv\n",
    "with open('C:/ML/ProyectoML/Resultados/Resultados_2025_prep2.csv', 'w', newline = '') as csvfile:\n",
    "    my_writer9 = csv.writer(csvfile, delimiter = ' ')\n",
    "    my_writer9.writerow(Y_pred_2026)"
   ]
  },
  {
   "cell_type": "code",
   "execution_count": 243,
   "id": "c22e9a25-c304-4053-b5f2-2d2f71d15bb7",
   "metadata": {},
   "outputs": [],
   "source": [
    "cali_pred_2026 = 'C:/ML/ProyectoML/Resultados/Resultados_2026_prep1.csv'\n",
    "df10 = pd.read_csv(cali_pred_2026)"
   ]
  },
  {
   "cell_type": "code",
   "execution_count": 245,
   "id": "32f384f3-25b8-444f-baba-31ee0ab65195",
   "metadata": {},
   "outputs": [
    {
     "name": "stdout",
     "output_type": "stream",
     "text": [
      "(2371, 14)\n"
     ]
    }
   ],
   "source": [
    "print(df10.shape)"
   ]
  },
  {
   "cell_type": "code",
   "execution_count": 247,
   "id": "5de36afc-35f8-443a-871c-f81419de7b04",
   "metadata": {},
   "outputs": [],
   "source": [
    "cali_pred_2026_gb = df10.iloc[:, [0,1,2,3,4,5,6,7,8,9,10,11,12,13]]"
   ]
  },
  {
   "cell_type": "code",
   "execution_count": 249,
   "id": "9cb15b33-fa38-47b1-abcb-92c723fd0877",
   "metadata": {},
   "outputs": [],
   "source": [
    "Y_pred_2027 = Bar.predict(cali_pred_2026_gb)"
   ]
  },
  {
   "cell_type": "code",
   "execution_count": 251,
   "id": "6aa9ddc0-0c81-43ea-b244-5d1293bb5ac5",
   "metadata": {},
   "outputs": [],
   "source": [
    "import csv\n",
    "with open('C:/ML/ProyectoML/Resultados/Resultados_2026_prep2.csv', 'w', newline = '') as csvfile:\n",
    "    my_writer10 = csv.writer(csvfile, delimiter = ' ')\n",
    "    my_writer10.writerow(Y_pred_2027)"
   ]
  },
  {
   "cell_type": "code",
   "execution_count": 253,
   "id": "8963f469-1661-4ae3-80d9-b27d492c7c11",
   "metadata": {},
   "outputs": [],
   "source": [
    "cali_pred_2027 = 'C:/ML/ProyectoML/Resultados/Resultados_2027_prep1.csv'\n",
    "df11 = pd.read_csv(cali_pred_2027)\n"
   ]
  },
  {
   "cell_type": "code",
   "execution_count": 255,
   "id": "db8dea92-353e-4e80-9642-72291636a3de",
   "metadata": {},
   "outputs": [
    {
     "name": "stdout",
     "output_type": "stream",
     "text": [
      "(2371, 14)\n"
     ]
    }
   ],
   "source": [
    "print(df11.shape)"
   ]
  },
  {
   "cell_type": "code",
   "execution_count": 257,
   "id": "a1c059b3-e754-40fe-a3ed-c0f2813ccd97",
   "metadata": {},
   "outputs": [],
   "source": [
    "cali_pred_2027_gb = df11.iloc[:, [0,1,2,3,4,5,6,7,8,9,10,11,12,13]]"
   ]
  },
  {
   "cell_type": "code",
   "execution_count": 259,
   "id": "eb97d52c-f82c-49a2-85d9-b7c6a5c88898",
   "metadata": {},
   "outputs": [],
   "source": [
    "Y_pred_2028 = Bar.predict(cali_pred_2027_gb)"
   ]
  },
  {
   "cell_type": "code",
   "execution_count": 261,
   "id": "5a77b9a4-0542-4977-95a8-e9fe6f11627d",
   "metadata": {},
   "outputs": [],
   "source": [
    "import csv\n",
    "with open('C:/ML/ProyectoML/Resultados/Resultados_2027_prep2.csv', 'w', newline = '') as csvfile:\n",
    "    my_writer11 = csv.writer(csvfile, delimiter = ' ')\n",
    "    my_writer11.writerow(Y_pred_2028)"
   ]
  },
  {
   "cell_type": "code",
   "execution_count": 263,
   "id": "558e2227-e613-4bb0-8b72-20ca7e2a2b3a",
   "metadata": {},
   "outputs": [],
   "source": [
    "cali_pred_2028 = 'C:/ML/ProyectoML/Resultados/Resultados_2028_prep1.csv'\n",
    "df12 = pd.read_csv(cali_pred_2028)"
   ]
  },
  {
   "cell_type": "code",
   "execution_count": 265,
   "id": "87a025f4-efe4-42d3-9726-a79b0f72275b",
   "metadata": {},
   "outputs": [
    {
     "name": "stdout",
     "output_type": "stream",
     "text": [
      "(2371, 14)\n"
     ]
    }
   ],
   "source": [
    "print(df12.shape)"
   ]
  },
  {
   "cell_type": "code",
   "execution_count": 267,
   "id": "be5db032-7858-4932-b406-c3b1aaea3fb6",
   "metadata": {},
   "outputs": [],
   "source": [
    "cali_pred_2028_gb = df12.iloc[:, [0,1,2,3,4,5,6,7,8,9,10,11,12,13]]"
   ]
  },
  {
   "cell_type": "code",
   "execution_count": 269,
   "id": "31faef0d-e141-4947-a5c1-074bc46e6d5c",
   "metadata": {},
   "outputs": [],
   "source": [
    "Y_pred_2029 = Bar.predict(cali_pred_2028_gb)"
   ]
  },
  {
   "cell_type": "code",
   "execution_count": 271,
   "id": "98b690f9-d107-45c1-9154-22f162cf2f69",
   "metadata": {},
   "outputs": [],
   "source": [
    "import csv\n",
    "with open('C:/ML/ProyectoML/Resultados/Resultados_2028_prep2.csv', 'w', newline = '') as csvfile:\n",
    "    my_writer12 = csv.writer(csvfile, delimiter = ' ')\n",
    "    my_writer12.writerow(Y_pred_2029)"
   ]
  },
  {
   "cell_type": "code",
   "execution_count": 273,
   "id": "3af7f4ee-2123-4ee3-a704-30eb2ee3228e",
   "metadata": {},
   "outputs": [],
   "source": [
    "cali_pred_2029 = 'C:/ML/ProyectoML/Resultados/Resultados_2029_prep1.csv'\n",
    "df13 = pd.read_csv(cali_pred_2029)"
   ]
  },
  {
   "cell_type": "code",
   "execution_count": 275,
   "id": "f070be36-2b73-42c7-a911-746a86ccd084",
   "metadata": {},
   "outputs": [
    {
     "name": "stdout",
     "output_type": "stream",
     "text": [
      "(2371, 14)\n"
     ]
    }
   ],
   "source": [
    "print(df13.shape)"
   ]
  },
  {
   "cell_type": "code",
   "execution_count": 277,
   "id": "48c92eda-9b67-4a3f-884e-6beda14a3cbb",
   "metadata": {},
   "outputs": [],
   "source": [
    "cali_pred_2029_gb = df13.iloc[:, [0,1,2,3,4,5,6,7,8,9,10,11,12,13]]"
   ]
  },
  {
   "cell_type": "code",
   "execution_count": 279,
   "id": "bb33ab9c-ae5c-4033-8892-9b507feccebd",
   "metadata": {},
   "outputs": [],
   "source": [
    "Y_pred_2030 = Bar.predict(cali_pred_2029_gb)"
   ]
  },
  {
   "cell_type": "code",
   "execution_count": 281,
   "id": "03061a7b-a7f0-4cb9-854e-08edc92a5d60",
   "metadata": {},
   "outputs": [],
   "source": [
    "import csv\n",
    "with open('C:/ML/ProyectoML/Resultados/resultados_2029_prep2.csv', 'w', newline = '') as csvfile:\n",
    "    my_writer13 = csv.writer(csvfile, delimiter = ' ')\n",
    "    my_writer13.writerow(Y_pred_2030)"
   ]
  },
  {
   "cell_type": "code",
   "execution_count": 283,
   "id": "589b5859-044b-4468-9ad2-cc92d470f7e9",
   "metadata": {},
   "outputs": [],
   "source": [
    "cali_pred_2030 = 'C:/ML/ProyectoML/Resultados/Resultados_2030_prep1.csv'\n",
    "df14 = pd.read_csv(cali_pred_2030)"
   ]
  },
  {
   "cell_type": "code",
   "execution_count": 285,
   "id": "1434b697-4e42-4bc8-903f-21546b84b4a5",
   "metadata": {},
   "outputs": [
    {
     "name": "stdout",
     "output_type": "stream",
     "text": [
      "(2371, 14)\n"
     ]
    }
   ],
   "source": [
    "print(df14.shape)"
   ]
  },
  {
   "cell_type": "code",
   "execution_count": 287,
   "id": "5cf2a29a-ea98-412a-8018-206a451ec8cb",
   "metadata": {},
   "outputs": [],
   "source": [
    "cali_pred_2030_gb = df14.iloc[:, [0,1,2,3,4,5,6,7,8,9,10,11,12,13]]"
   ]
  },
  {
   "cell_type": "code",
   "execution_count": 289,
   "id": "be58b7a6-50fa-4403-9151-1275536be4d9",
   "metadata": {},
   "outputs": [],
   "source": [
    "Y_pred_2031 = Bar.predict(cali_pred_2030_gb)"
   ]
  },
  {
   "cell_type": "code",
   "execution_count": 291,
   "id": "6ec9e529-e5c9-477b-be58-741cebbabf7e",
   "metadata": {},
   "outputs": [],
   "source": [
    "import csv\n",
    "with open('C:/ML/ProyectoML/Resultados/Resultados_2030_prep2.csv', 'w', newline = '') as csvfile:\n",
    "    my_writer14 = csv.writer(csvfile, delimiter = ' ')\n",
    "    my_writer14.writerow(Y_pred_2031)"
   ]
  },
  {
   "cell_type": "code",
   "execution_count": 293,
   "id": "fb826096-41dd-4dba-855a-dea33094b248",
   "metadata": {},
   "outputs": [],
   "source": [
    "cali_pred_2031 = 'C:/ML/ProyectoML/Resultados/Resultados_2031_prep1.csv'\n",
    "df15 = pd.read_csv(cali_pred_2031)"
   ]
  },
  {
   "cell_type": "code",
   "execution_count": 295,
   "id": "5b75c2c6-8ab5-4a39-8f3e-ff26072d0dd2",
   "metadata": {},
   "outputs": [
    {
     "name": "stdout",
     "output_type": "stream",
     "text": [
      "(2371, 14)\n"
     ]
    }
   ],
   "source": [
    "print(df15.shape)"
   ]
  },
  {
   "cell_type": "code",
   "execution_count": 297,
   "id": "7081912c-c4b6-4035-829d-05cd7de36538",
   "metadata": {},
   "outputs": [],
   "source": [
    "cali_pred_2031_gb = df15.iloc[:, [0,1,2,3,4,5,6,7,8,9,10,11,12,13]]"
   ]
  },
  {
   "cell_type": "code",
   "execution_count": 299,
   "id": "10225ab5-0de1-480b-abf7-42cfe14bf0fd",
   "metadata": {},
   "outputs": [],
   "source": [
    "Y_pred_2032 = Bar.predict(cali_pred_2031_gb)"
   ]
  },
  {
   "cell_type": "code",
   "execution_count": 301,
   "id": "06da360f-927d-4156-940d-bbfc334d9db6",
   "metadata": {},
   "outputs": [],
   "source": [
    "import csv\n",
    "with open('C:/ML/ProyectoML/Resultados/Resultados_2031_prep2.csv', 'w', newline = '') as csvfile:\n",
    "    my_writer15 = csv.writer(csvfile, delimiter = ' ')\n",
    "    my_writer15.writerow(Y_pred_2032)"
   ]
  },
  {
   "cell_type": "code",
   "execution_count": null,
   "id": "6996c1a7-7bc7-4202-9d3f-cf0db518bfae",
   "metadata": {},
   "outputs": [],
   "source": []
  }
 ],
 "metadata": {
  "kernelspec": {
   "display_name": "Python 3 (ipykernel)",
   "language": "python",
   "name": "python3"
  },
  "language_info": {
   "codemirror_mode": {
    "name": "ipython",
    "version": 3
   },
   "file_extension": ".py",
   "mimetype": "text/x-python",
   "name": "python",
   "nbconvert_exporter": "python",
   "pygments_lexer": "ipython3",
   "version": "3.12.4"
  }
 },
 "nbformat": 4,
 "nbformat_minor": 5
}
