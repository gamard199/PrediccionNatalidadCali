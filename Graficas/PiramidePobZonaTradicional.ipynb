{
 "cells": [
  {
   "cell_type": "code",
   "execution_count": 1,
   "id": "fcaf1b68-27a2-456a-9ab2-b6c34dcf868e",
   "metadata": {},
   "outputs": [],
   "source": [
    "#import libraries  \n",
    "import numpy as np\n",
    "import pandas as pd \n",
    "import matplotlib.pyplot as plt"
   ]
  },
  {
   "cell_type": "code",
   "execution_count": null,
   "id": "58837cbb-ee05-4ce2-91a9-001442ca3406",
   "metadata": {},
   "outputs": [],
   "source": [
    "# Crear DataFrame\n",
    "df = pd.DataFrame({'Age': ['0-9','10-19','20-29','30-39','40-49','50-59','60-69','70-79','80-89','90+'], \n",
    "                    'Male': [1376, 1619, 1660, 2041, 2042, 1709, 1150, 710, 315, 53], \n",
    "                    'Female': [1306, 1533, 1961, 2523, 2420, 2234, 1747, 1122, 559, 113]})"
   ]
  }
 ],
 "metadata": {
  "kernelspec": {
   "display_name": "Python 3 (ipykernel)",
   "language": "python",
   "name": "python3"
  },
  "language_info": {
   "codemirror_mode": {
    "name": "ipython",
    "version": 3
   },
   "file_extension": ".py",
   "mimetype": "text/x-python",
   "name": "python",
   "nbconvert_exporter": "python",
   "pygments_lexer": "ipython3",
   "version": "3.12.4"
  }
 },
 "nbformat": 4,
 "nbformat_minor": 5
}
