{
 "cells": [
  {
   "cell_type": "code",
   "execution_count": 1,
   "id": "fcaf1b68-27a2-456a-9ab2-b6c34dcf868e",
   "metadata": {},
   "outputs": [],
   "source": [
    "#import libraries  \n",
    "import numpy as np\n",
    "import pandas as pd \n",
    "import matplotlib.pyplot as plt"
   ]
  },
  {
   "cell_type": "code",
   "execution_count": 3,
   "id": "58837cbb-ee05-4ce2-91a9-001442ca3406",
   "metadata": {},
   "outputs": [],
   "source": [
    "# Crear DataFrame\n",
    "df = pd.DataFrame({'Age': ['0-9','10-19','20-29','30-39','40-49','50-59','60-69','70-79','80-89','90+'], \n",
    "                    'Male': [1129, 1437, 2190, 2175, 1920, 2178, 1601, 1052, 617, 121], \n",
    "                    'Female': [1057, 1346, 2348, 2411, 2324, 2758, 2396, 1770, 1136, 270]})"
   ]
  },
  {
   "cell_type": "code",
   "execution_count": 5,
   "id": "5ed9e4ac-83f7-40d3-ba98-fdc443062678",
   "metadata": {},
   "outputs": [],
   "source": [
    "# Define x and y limits\n",
    "y = range(0, len(df))\n",
    "x_male = df['Male']\n",
    "x_female = df['Female']"
   ]
  },
  {
   "cell_type": "code",
   "execution_count": null,
   "id": "3b52f22d-ed60-45a3-878f-66993ff53117",
   "metadata": {},
   "outputs": [],
   "source": [
    "# Define plot parameters\n",
    "fig, axes = plt.subplots(ncols = 2, sharey = True, figsize = (9, 6))\n",
    "\n",
    "# Specify the background color and title of the plot\n",
    "fig.patch.set_facecolor('xkcd:light blue')\n",
    "plt.figtext(.3, .95, 'Pirámide poblacional zona Tradicional', fontsize = 15, ha = 'left')\n",
    "\n",
    "# Define male and female bars\n",
    "axes[0].barh(y, x_male, align = 'center', color = 'royalblue')\n",
    "axes[0].set(title = 'Hombres')\n",
    "axes[1].barh(y, x_female, align = 'center', color = 'lightpink')\n",
    "axes[1].set(title = 'Mujeres')\n",
    "\n",
    "# Adjusting grid parameters and specifying labels for the y-axis\n",
    "axes[1].axis([0, 2900, -1, 10])\n",
    "axes[1].grid()\n",
    "axes[0].axis([0, 2900, -1, 10])\n",
    "axes[0].set(yticks = y, yticklabels = df['Age'])\n",
    "axes[0].invert_xaxis()\n",
    "axes[0].grid()\n",
    "\n",
    "# Display plot\n",
    "plt.show()"
   ]
  }
 ],
 "metadata": {
  "kernelspec": {
   "display_name": "Python 3 (ipykernel)",
   "language": "python",
   "name": "python3"
  },
  "language_info": {
   "codemirror_mode": {
    "name": "ipython",
    "version": 3
   },
   "file_extension": ".py",
   "mimetype": "text/x-python",
   "name": "python",
   "nbconvert_exporter": "python",
   "pygments_lexer": "ipython3",
   "version": "3.12.4"
  }
 },
 "nbformat": 4,
 "nbformat_minor": 5
}
