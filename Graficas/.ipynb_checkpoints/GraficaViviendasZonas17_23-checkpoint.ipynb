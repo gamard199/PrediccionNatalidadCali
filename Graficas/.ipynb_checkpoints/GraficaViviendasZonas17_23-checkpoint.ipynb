{
 "cells": [
  {
   "cell_type": "code",
   "execution_count": null,
   "id": "65869f05-9b17-451e-a436-24432d11db13",
   "metadata": {},
   "outputs": [],
   "source": [
    "import matplotlib.pyplot as plt\n",
    "\n",
    "agno = ['2017', '2022', '2023']\n",
    "viv_norte = [12873, 14096, 16316]\n",
    "viv_tradicional = [22367, 23202, 23704]\n",
    "viv_oeste = [26611, 27129, 28480]\n",
    "\n",
    "plt.plot(agno, viv_norte, color = 'blue', linewidth = 0.5, label = 'Viviendas zona Norte')\n",
    "plt.plot(agno, viv_tradicional, color = 'red', linewidth = 0.5, label = 'Viviendas zona Tradicional')\n",
    "plt.plot(agno, viv_oeste, color = 'purple', linewidth = 0.5, label = 'Viviendas zona Oeste')\n",
    "plt.xlabel('Año')\n",
    "plt.ylabel('Número de viviendas')\n",
    "plt.title('Número de viviendas registradas por zona para los años 2018 a 2023')\n",
    "plt.legend()\n",
    "plt.show()\n",
    "\n"
   ]
  }
 ],
 "metadata": {
  "kernelspec": {
   "display_name": "Python 3 (ipykernel)",
   "language": "python",
   "name": "python3"
  },
  "language_info": {
   "codemirror_mode": {
    "name": "ipython",
    "version": 3
   },
   "file_extension": ".py",
   "mimetype": "text/x-python",
   "name": "python",
   "nbconvert_exporter": "python",
   "pygments_lexer": "ipython3",
   "version": "3.12.4"
  }
 },
 "nbformat": 4,
 "nbformat_minor": 5
}
